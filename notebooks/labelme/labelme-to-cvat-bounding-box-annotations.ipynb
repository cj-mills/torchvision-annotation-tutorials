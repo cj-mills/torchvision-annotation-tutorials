{
 "cells": [
  {
   "cell_type": "markdown",
   "id": "562e8e77",
   "metadata": {},
   "source": [
    "## Setting Up Your Python Environment"
   ]
  },
  {
   "cell_type": "code",
   "execution_count": 1,
   "id": "6569af2c",
   "metadata": {},
   "outputs": [],
   "source": [
    "# %%capture\n",
    "# # Install additional dependencies\n",
    "# !pip install pandas pillow tqdm\n",
    "\n",
    "# # Install package for creating visually distinct colormaps\n",
    "# !pip install distinctipy\n",
    "\n",
    "# # Install utility packages\n",
    "# !pip install cjm_psl_utils"
   ]
  },
  {
   "cell_type": "markdown",
   "id": "3f835e2b",
   "metadata": {},
   "source": [
    "## Importing the Required Dependencies"
   ]
  },
  {
   "cell_type": "code",
   "execution_count": 2,
   "id": "af4c9e24",
   "metadata": {},
   "outputs": [],
   "source": [
    "# Import Python Standard Library dependencies\n",
    "from glob import glob\n",
    "from pathlib import Path\n",
    "\n",
    "# Import utility functions\n",
    "from cjm_psl_utils.core import download_file, file_extract\n",
    "\n",
    "# Import the distinctipy module\n",
    "from distinctipy import distinctipy\n",
    "\n",
    "# Import numpy\n",
    "import numpy as np\n",
    "\n",
    "# Import the pandas package\n",
    "import pandas as pd\n",
    "\n",
    "# Set options for Pandas DataFrame display\n",
    "pd.set_option('max_colwidth', None)  # Do not truncate the contents of cells in the DataFrame\n",
    "pd.set_option('display.max_rows', None)  # Display all rows in the DataFrame\n",
    "pd.set_option('display.max_columns', None)  # Display all columns in the DataFrame\n",
    "\n",
    "# Import PIL for image manipulation\n",
    "from PIL import Image\n",
    "\n",
    "# Import tqdm for progress bar\n",
    "from tqdm.auto import tqdm"
   ]
  },
  {
   "cell_type": "markdown",
   "id": "9e16f9cb",
   "metadata": {},
   "source": [
    "## Loading and Exploring the Dataset"
   ]
  },
  {
   "cell_type": "markdown",
   "id": "d8580b17-013e-49cf-ab9f-c994dff884b8",
   "metadata": {},
   "source": [
    "### Setting the Directory Paths"
   ]
  },
  {
   "cell_type": "code",
   "execution_count": 3,
   "id": "73a2baf2",
   "metadata": {},
   "outputs": [
    {
     "data": {
      "text/html": [
       "<style type=\"text/css\">\n",
       "</style>\n",
       "<table id=\"T_9e44e\">\n",
       "  <thead>\n",
       "  </thead>\n",
       "  <tbody>\n",
       "    <tr>\n",
       "      <th id=\"T_9e44e_level0_row0\" class=\"row_heading level0 row0\" >Dataset Directory:</th>\n",
       "      <td id=\"T_9e44e_row0_col0\" class=\"data row0 col0\" >/mnt/980_1TB_2/Datasets</td>\n",
       "    </tr>\n",
       "    <tr>\n",
       "      <th id=\"T_9e44e_level0_row1\" class=\"row_heading level0 row1\" >Archive Directory:</th>\n",
       "      <td id=\"T_9e44e_row1_col0\" class=\"data row1 col0\" >/mnt/980_1TB_2/Datasets/../Archive</td>\n",
       "    </tr>\n",
       "  </tbody>\n",
       "</table>\n"
      ],
      "text/plain": [
       "<pandas.io.formats.style.Styler at 0x7eff90f43ed0>"
      ]
     },
     "execution_count": 3,
     "metadata": {},
     "output_type": "execute_result"
    }
   ],
   "source": [
    "# Define path to store datasets\n",
    "dataset_dir = Path(\"/mnt/980_1TB_2/Datasets/\")\n",
    "# Create the dataset directory if it does not exist\n",
    "dataset_dir.mkdir(parents=True, exist_ok=True)\n",
    "\n",
    "# Define path to store archive files\n",
    "archive_dir = dataset_dir/'../Archive'\n",
    "# Create the archive directory if it does not exist\n",
    "archive_dir.mkdir(parents=True, exist_ok=True)\n",
    "\n",
    "pd.Series({\n",
    "    \"Dataset Directory:\": dataset_dir, \n",
    "    \"Archive Directory:\": archive_dir\n",
    "}).to_frame().style.hide(axis='columns')"
   ]
  },
  {
   "cell_type": "markdown",
   "id": "a1197d58",
   "metadata": {},
   "source": [
    "### Setting the Dataset Path"
   ]
  },
  {
   "cell_type": "code",
   "execution_count": 4,
   "id": "284c6ff1",
   "metadata": {},
   "outputs": [
    {
     "data": {
      "text/html": [
       "<style type=\"text/css\">\n",
       "</style>\n",
       "<table id=\"T_34a0a\">\n",
       "  <thead>\n",
       "  </thead>\n",
       "  <tbody>\n",
       "    <tr>\n",
       "      <th id=\"T_34a0a_level0_row0\" class=\"row_heading level0 row0\" >HuggingFace Dataset:</th>\n",
       "      <td id=\"T_34a0a_row0_col0\" class=\"data row0 col0\" >cj-mills/labelme-bounding-box-toy-dataset</td>\n",
       "    </tr>\n",
       "    <tr>\n",
       "      <th id=\"T_34a0a_level0_row1\" class=\"row_heading level0 row1\" >Archive Path:</th>\n",
       "      <td id=\"T_34a0a_row1_col0\" class=\"data row1 col0\" >/mnt/980_1TB_2/Datasets/../Archive/labelme-bounding-box-toy-dataset.zip</td>\n",
       "    </tr>\n",
       "    <tr>\n",
       "      <th id=\"T_34a0a_level0_row2\" class=\"row_heading level0 row2\" >Dataset Path:</th>\n",
       "      <td id=\"T_34a0a_row2_col0\" class=\"data row2 col0\" >/mnt/980_1TB_2/Datasets/labelme-bounding-box-toy-dataset</td>\n",
       "    </tr>\n",
       "  </tbody>\n",
       "</table>\n"
      ],
      "text/plain": [
       "<pandas.io.formats.style.Styler at 0x7eff8bfd6cd0>"
      ]
     },
     "execution_count": 4,
     "metadata": {},
     "output_type": "execute_result"
    }
   ],
   "source": [
    "# Set the name of the dataset\n",
    "dataset_name = 'labelme-bounding-box-toy-dataset'\n",
    "\n",
    "# Construct the HuggingFace Hub dataset name by combining the username and dataset name\n",
    "hf_dataset = f'cj-mills/{dataset_name}'\n",
    "\n",
    "# Create the path to the zip file that contains the dataset\n",
    "archive_path = Path(f'{archive_dir}/{dataset_name}.zip')\n",
    "\n",
    "# Create the path to the directory where the dataset will be extracted\n",
    "dataset_path = Path(f'{dataset_dir}/{dataset_name}')\n",
    "\n",
    "pd.Series({\n",
    "    \"HuggingFace Dataset:\": hf_dataset, \n",
    "    \"Archive Path:\": archive_path, \n",
    "    \"Dataset Path:\": dataset_path\n",
    "}).to_frame().style.hide(axis='columns')"
   ]
  },
  {
   "cell_type": "markdown",
   "id": "b45d948a",
   "metadata": {},
   "source": [
    "### Downloading the Dataset"
   ]
  },
  {
   "cell_type": "code",
   "execution_count": 5,
   "id": "8861cf28",
   "metadata": {},
   "outputs": [
    {
     "name": "stdout",
     "output_type": "stream",
     "text": [
      "HuggingFace Dataset URL: https://huggingface.co/datasets/cj-mills/labelme-bounding-box-toy-dataset/resolve/main/labelme-bounding-box-toy-dataset.zip\n",
      "Dataset folder already exists\n"
     ]
    }
   ],
   "source": [
    "# Construct the HuggingFace Hub dataset URL\n",
    "dataset_url = f\"https://huggingface.co/datasets/{hf_dataset}/resolve/main/{dataset_name}.zip\"\n",
    "print(f\"HuggingFace Dataset URL: {dataset_url}\")\n",
    "\n",
    "# Set whether to delete the archive file after extracting the dataset\n",
    "delete_archive = True\n",
    "\n",
    "# Download the dataset if not present\n",
    "if dataset_path.is_dir():\n",
    "    print(\"Dataset folder already exists\")\n",
    "else:\n",
    "    print(\"Downloading dataset...\")\n",
    "    download_file(dataset_url, archive_dir)    \n",
    "    \n",
    "    print(\"Extracting dataset...\")\n",
    "    file_extract(fname=archive_path, dest=dataset_dir)\n",
    "    \n",
    "    # Delete the archive if specified\n",
    "    if delete_archive: archive_path.unlink()"
   ]
  },
  {
   "cell_type": "markdown",
   "id": "2ed702c4",
   "metadata": {},
   "source": [
    "### Getting the Image and Annotation Folders"
   ]
  },
  {
   "cell_type": "code",
   "execution_count": 6,
   "id": "b22aa7e3-a662-44c7-8666-1ff544c34d4f",
   "metadata": {},
   "outputs": [
    {
     "data": {
      "text/html": [
       "<div>\n",
       "<style scoped>\n",
       "    .dataframe tbody tr th:only-of-type {\n",
       "        vertical-align: middle;\n",
       "    }\n",
       "\n",
       "    .dataframe tbody tr th {\n",
       "        vertical-align: top;\n",
       "    }\n",
       "\n",
       "    .dataframe thead th {\n",
       "        text-align: right;\n",
       "    }\n",
       "</style>\n",
       "<table border=\"1\" class=\"dataframe\">\n",
       "  <thead>\n",
       "    <tr style=\"text-align: right;\">\n",
       "      <th></th>\n",
       "      <th>Annotation File</th>\n",
       "    </tr>\n",
       "  </thead>\n",
       "  <tbody>\n",
       "    <tr>\n",
       "      <th>0</th>\n",
       "      <td>258421.json</td>\n",
       "    </tr>\n",
       "    <tr>\n",
       "      <th>1</th>\n",
       "      <td>3075367.json</td>\n",
       "    </tr>\n",
       "    <tr>\n",
       "      <th>2</th>\n",
       "      <td>3076319.json</td>\n",
       "    </tr>\n",
       "    <tr>\n",
       "      <th>3</th>\n",
       "      <td>3145551.json</td>\n",
       "    </tr>\n",
       "    <tr>\n",
       "      <th>4</th>\n",
       "      <td>3176048.json</td>\n",
       "    </tr>\n",
       "  </tbody>\n",
       "</table>\n",
       "</div>"
      ],
      "text/plain": [
       "  Annotation File\n",
       "0     258421.json\n",
       "1    3075367.json\n",
       "2    3076319.json\n",
       "3    3145551.json\n",
       "4    3176048.json"
      ]
     },
     "execution_count": 6,
     "metadata": {},
     "output_type": "execute_result"
    }
   ],
   "source": [
    "# Get a list of JSON files in the dataset\n",
    "annotation_file_paths = list(dataset_path.glob('*.json'))\n",
    "\n",
    "# Display the names of the folders using a Pandas DataFrame\n",
    "pd.DataFrame({\"Annotation File\":[file.name for file in annotation_file_paths]}).head()"
   ]
  },
  {
   "cell_type": "markdown",
   "id": "397b569a",
   "metadata": {},
   "source": [
    "### Get Image Annotations"
   ]
  },
  {
   "cell_type": "code",
   "execution_count": 7,
   "id": "f9b9e33f-5de1-44c7-8e96-106fd9fe20c2",
   "metadata": {},
   "outputs": [
    {
     "data": {
      "application/vnd.jupyter.widget-view+json": {
       "model_id": "17caa183ecff47f2a8a6fecdeff04944",
       "version_major": 2,
       "version_minor": 0
      },
      "text/plain": [
       "  0%|          | 0/28 [00:00<?, ?it/s]"
      ]
     },
     "metadata": {},
     "output_type": "display_data"
    },
    {
     "data": {
      "text/html": [
       "<div>\n",
       "<style scoped>\n",
       "    .dataframe tbody tr th:only-of-type {\n",
       "        vertical-align: middle;\n",
       "    }\n",
       "\n",
       "    .dataframe tbody tr th {\n",
       "        vertical-align: top;\n",
       "    }\n",
       "\n",
       "    .dataframe thead th {\n",
       "        text-align: right;\n",
       "    }\n",
       "</style>\n",
       "<table border=\"1\" class=\"dataframe\">\n",
       "  <thead>\n",
       "    <tr style=\"text-align: right;\">\n",
       "      <th></th>\n",
       "      <th>version</th>\n",
       "      <th>flags</th>\n",
       "      <th>shapes</th>\n",
       "      <th>imagePath</th>\n",
       "      <th>imageData</th>\n",
       "      <th>imageHeight</th>\n",
       "      <th>imageWidth</th>\n",
       "    </tr>\n",
       "    <tr>\n",
       "      <th>index</th>\n",
       "      <th></th>\n",
       "      <th></th>\n",
       "      <th></th>\n",
       "      <th></th>\n",
       "      <th></th>\n",
       "      <th></th>\n",
       "      <th></th>\n",
       "    </tr>\n",
       "  </thead>\n",
       "  <tbody>\n",
       "    <tr>\n",
       "      <th>258421</th>\n",
       "      <td>5.3.1</td>\n",
       "      <td>{}</td>\n",
       "      <td>[{'label': 'person', 'points': [[340.2519836425781, 466.943359375], [418.9939880371094, 777.34423828125]], 'group_id': None, 'description': '', 'shape_type': 'rectangle', 'flags': {}}, {'label': 'person', 'points': [[386.076124567474, 443.94463667820065], [460.81660899653974, 777.1626297577855]], 'group_id': None, 'description': '', 'shape_type': 'rectangle', 'flags': {}}]</td>\n",
       "      <td>258421.jpg</td>\n",
       "      <td>None</td>\n",
       "      <td>1152</td>\n",
       "      <td>768</td>\n",
       "    </tr>\n",
       "    <tr>\n",
       "      <th>3075367</th>\n",
       "      <td>5.3.1</td>\n",
       "      <td>{}</td>\n",
       "      <td>[{'label': 'person', 'points': [[413.31866455078125, 41.2171630859375], [919.8128051757812, 763.16552734375]], 'group_id': None, 'description': '', 'shape_type': 'rectangle', 'flags': {}}]</td>\n",
       "      <td>3075367.jpg</td>\n",
       "      <td>None</td>\n",
       "      <td>768</td>\n",
       "      <td>1344</td>\n",
       "    </tr>\n",
       "    <tr>\n",
       "      <th>3076319</th>\n",
       "      <td>5.3.1</td>\n",
       "      <td>{}</td>\n",
       "      <td>[{'label': 'person', 'points': [[335.30731201171875, 151.749755859375], [711.2194213867188, 1117.489013671875]], 'group_id': None, 'description': '', 'shape_type': 'rectangle', 'flags': {}}, {'label': 'person', 'points': [[8.10714285714289, 131.87500000000003], [404.2032880329769, 1119.0]], 'group_id': None, 'description': '', 'shape_type': 'rectangle', 'flags': {}}]</td>\n",
       "      <td>3076319.jpg</td>\n",
       "      <td>None</td>\n",
       "      <td>1120</td>\n",
       "      <td>768</td>\n",
       "    </tr>\n",
       "    <tr>\n",
       "      <th>3145551</th>\n",
       "      <td>5.3.1</td>\n",
       "      <td>{}</td>\n",
       "      <td>[{'label': 'person', 'points': [[658.6324462890625, 281.2455139160156], [687.085693359375, 398.6059265136719]], 'group_id': None, 'description': '', 'shape_type': 'rectangle', 'flags': {}}, {'label': 'person', 'points': [[642.0, 289.8510638297872], [669.6595744680851, 398.8936170212766]], 'group_id': None, 'description': '', 'shape_type': 'rectangle', 'flags': {}}]</td>\n",
       "      <td>3145551.jpg</td>\n",
       "      <td>None</td>\n",
       "      <td>768</td>\n",
       "      <td>1184</td>\n",
       "    </tr>\n",
       "    <tr>\n",
       "      <th>3176048</th>\n",
       "      <td>5.3.1</td>\n",
       "      <td>{}</td>\n",
       "      <td>[{'label': 'person', 'points': [[518.2313232421875, 338.9653015136719], [594.632080078125, 466.0799865722656]], 'group_id': None, 'description': '', 'shape_type': 'rectangle', 'flags': {}}, {'label': 'person', 'points': [[683.419689119171, 356.47668393782385], [638.860103626943, 437.8238341968912]], 'group_id': None, 'description': '', 'shape_type': 'rectangle', 'flags': {}}]</td>\n",
       "      <td>3176048.jpg</td>\n",
       "      <td>None</td>\n",
       "      <td>768</td>\n",
       "      <td>1152</td>\n",
       "    </tr>\n",
       "  </tbody>\n",
       "</table>\n",
       "</div>"
      ],
      "text/plain": [
       "        version flags  \\\n",
       "index                   \n",
       "258421    5.3.1    {}   \n",
       "3075367   5.3.1    {}   \n",
       "3076319   5.3.1    {}   \n",
       "3145551   5.3.1    {}   \n",
       "3176048   5.3.1    {}   \n",
       "\n",
       "                                                                                                                                                                                                                                                                                                                                                                                             shapes  \\\n",
       "index                                                                                                                                                                                                                                                                                                                                                                                                 \n",
       "258421      [{'label': 'person', 'points': [[340.2519836425781, 466.943359375], [418.9939880371094, 777.34423828125]], 'group_id': None, 'description': '', 'shape_type': 'rectangle', 'flags': {}}, {'label': 'person', 'points': [[386.076124567474, 443.94463667820065], [460.81660899653974, 777.1626297577855]], 'group_id': None, 'description': '', 'shape_type': 'rectangle', 'flags': {}}]   \n",
       "3075367                                                                                                                                                                                                [{'label': 'person', 'points': [[413.31866455078125, 41.2171630859375], [919.8128051757812, 763.16552734375]], 'group_id': None, 'description': '', 'shape_type': 'rectangle', 'flags': {}}]   \n",
       "3076319           [{'label': 'person', 'points': [[335.30731201171875, 151.749755859375], [711.2194213867188, 1117.489013671875]], 'group_id': None, 'description': '', 'shape_type': 'rectangle', 'flags': {}}, {'label': 'person', 'points': [[8.10714285714289, 131.87500000000003], [404.2032880329769, 1119.0]], 'group_id': None, 'description': '', 'shape_type': 'rectangle', 'flags': {}}]   \n",
       "3145551             [{'label': 'person', 'points': [[658.6324462890625, 281.2455139160156], [687.085693359375, 398.6059265136719]], 'group_id': None, 'description': '', 'shape_type': 'rectangle', 'flags': {}}, {'label': 'person', 'points': [[642.0, 289.8510638297872], [669.6595744680851, 398.8936170212766]], 'group_id': None, 'description': '', 'shape_type': 'rectangle', 'flags': {}}]   \n",
       "3176048  [{'label': 'person', 'points': [[518.2313232421875, 338.9653015136719], [594.632080078125, 466.0799865722656]], 'group_id': None, 'description': '', 'shape_type': 'rectangle', 'flags': {}}, {'label': 'person', 'points': [[683.419689119171, 356.47668393782385], [638.860103626943, 437.8238341968912]], 'group_id': None, 'description': '', 'shape_type': 'rectangle', 'flags': {}}]   \n",
       "\n",
       "           imagePath imageData imageHeight imageWidth  \n",
       "index                                                  \n",
       "258421    258421.jpg      None        1152        768  \n",
       "3075367  3075367.jpg      None         768       1344  \n",
       "3076319  3076319.jpg      None        1120        768  \n",
       "3145551  3145551.jpg      None         768       1184  \n",
       "3176048  3176048.jpg      None         768       1152  "
      ]
     },
     "execution_count": 7,
     "metadata": {},
     "output_type": "execute_result"
    }
   ],
   "source": [
    "# Create a generator that yields Pandas DataFrames containing the data from each JSON file\n",
    "cls_dataframes = (pd.read_json(f, orient='index').transpose() for f in tqdm(annotation_file_paths))\n",
    "\n",
    "# Concatenate the DataFrames into a single DataFrame\n",
    "annotation_df = pd.concat(cls_dataframes, ignore_index=False)\n",
    "\n",
    "# Assign the image file name as the index for each row\n",
    "annotation_df['index'] = annotation_df.apply(lambda row: row['imagePath'].split('.')[0], axis=1)\n",
    "annotation_df = annotation_df.set_index('index')\n",
    "\n",
    "# Print the first 5 rows of the DataFrame\n",
    "annotation_df.head()"
   ]
  },
  {
   "cell_type": "markdown",
   "id": "e03b43ff",
   "metadata": {},
   "source": [
    "#### Get image classes"
   ]
  },
  {
   "cell_type": "code",
   "execution_count": 8,
   "id": "d4e98243",
   "metadata": {},
   "outputs": [
    {
     "data": {
      "text/html": [
       "<div>\n",
       "<style scoped>\n",
       "    .dataframe tbody tr th:only-of-type {\n",
       "        vertical-align: middle;\n",
       "    }\n",
       "\n",
       "    .dataframe tbody tr th {\n",
       "        vertical-align: top;\n",
       "    }\n",
       "\n",
       "    .dataframe thead th {\n",
       "        text-align: right;\n",
       "    }\n",
       "</style>\n",
       "<table border=\"1\" class=\"dataframe\">\n",
       "  <thead>\n",
       "    <tr style=\"text-align: right;\">\n",
       "      <th></th>\n",
       "      <th>0</th>\n",
       "    </tr>\n",
       "  </thead>\n",
       "  <tbody>\n",
       "    <tr>\n",
       "      <th>0</th>\n",
       "      <td>person</td>\n",
       "    </tr>\n",
       "  </tbody>\n",
       "</table>\n",
       "</div>"
      ],
      "text/plain": [
       "        0\n",
       "0  person"
      ]
     },
     "execution_count": 8,
     "metadata": {},
     "output_type": "execute_result"
    }
   ],
   "source": [
    "# Explode the 'shapes' column in the annotation_df dataframe\n",
    "# Convert the resulting series to a dataframe and rename the 'shapes' column to 'shapes'\n",
    "# Apply the pandas Series function to the 'shapes' column of the dataframe\n",
    "shapes_df = annotation_df['shapes'].explode().to_frame().shapes.apply(pd.Series)\n",
    "\n",
    "# Get a list of unique labels in the 'annotation_df' DataFrame\n",
    "class_names = shapes_df['label'].unique().tolist()\n",
    "\n",
    "# Display labels using a Pandas DataFrame\n",
    "pd.DataFrame(class_names)"
   ]
  },
  {
   "cell_type": "markdown",
   "id": "43d67262",
   "metadata": {},
   "source": [
    "### Visualizing Bounding Box Annotations"
   ]
  },
  {
   "cell_type": "markdown",
   "id": "4bc00ff2",
   "metadata": {},
   "source": [
    "#### Generate a color map"
   ]
  },
  {
   "cell_type": "code",
   "execution_count": 9,
   "id": "6c8b6cd9",
   "metadata": {},
   "outputs": [
    {
     "data": {
      "image/png": "[encoded data removed]",
      "text/plain": [
       "<Figure size 800x800 with 1 Axes>"
      ]
     },
     "metadata": {},
     "output_type": "display_data"
    }
   ],
   "source": [
    "# Generate a list of colors with a length equal to the number of labels\n",
    "colors = distinctipy.get_colors(len(class_names))\n",
    "\n",
    "# Make a copy of the color map in integer format\n",
    "int_colors = [tuple(int(c*255) for c in color) for color in colors]\n",
    "\n",
    "# Generate a color swatch to visualize the color map\n",
    "distinctipy.color_swatch(colors)"
   ]
  },
  {
   "cell_type": "markdown",
   "id": "f7f7be42",
   "metadata": {},
   "source": [
    "#### Download a font file"
   ]
  },
  {
   "cell_type": "code",
   "execution_count": 10,
   "id": "8d81955f",
   "metadata": {},
   "outputs": [
    {
     "name": "stdout",
     "output_type": "stream",
     "text": [
      "The file ./KFOlCnqEu92Fr1MmEU9vAw.ttf already exists and overwrite is set to False.\n"
     ]
    }
   ],
   "source": [
    "# Set the name of the font file\n",
    "font_file = 'KFOlCnqEu92Fr1MmEU9vAw.ttf'\n",
    "\n",
    "# Download the font file\n",
    "download_file(f\"https://fonts.gstatic.com/s/roboto/v30/{font_file}\", \"./\")"
   ]
  },
  {
   "cell_type": "code",
   "execution_count": null,
   "id": "a8eb84ee-b9d0-4707-a4f5-c07bb571ada4",
   "metadata": {},
   "outputs": [],
   "source": []
  },
  {
   "cell_type": "markdown",
   "id": "55dd5206",
   "metadata": {},
   "source": [
    "#### Inspect the corresponding annotation data"
   ]
  },
  {
   "cell_type": "code",
   "execution_count": 11,
   "id": "96eb872d",
   "metadata": {},
   "outputs": [
    {
     "data": {
      "text/html": [
       "<div>\n",
       "<style scoped>\n",
       "    .dataframe tbody tr th:only-of-type {\n",
       "        vertical-align: middle;\n",
       "    }\n",
       "\n",
       "    .dataframe tbody tr th {\n",
       "        vertical-align: top;\n",
       "    }\n",
       "\n",
       "    .dataframe thead th {\n",
       "        text-align: right;\n",
       "    }\n",
       "</style>\n",
       "<table border=\"1\" class=\"dataframe\">\n",
       "  <thead>\n",
       "    <tr style=\"text-align: right;\">\n",
       "      <th></th>\n",
       "      <th>258421</th>\n",
       "    </tr>\n",
       "  </thead>\n",
       "  <tbody>\n",
       "    <tr>\n",
       "      <th>version</th>\n",
       "      <td>5.3.1</td>\n",
       "    </tr>\n",
       "    <tr>\n",
       "      <th>flags</th>\n",
       "      <td>{}</td>\n",
       "    </tr>\n",
       "    <tr>\n",
       "      <th>shapes</th>\n",
       "      <td>[{'label': 'person', 'points': [[340.2519836425781, 466.943359375], [418.9939880371094, 777.34423828125]], 'group_id': None, 'description': '', 'shape_type': 'rectangle', 'flags': {}}, {'label': 'person', 'points': [[386.076124567474, 443.94463667820065], [460.81660899653974, 777.1626297577855]], 'group_id': None, 'description': '', 'shape_type': 'rectangle', 'flags': {}}]</td>\n",
       "    </tr>\n",
       "    <tr>\n",
       "      <th>imagePath</th>\n",
       "      <td>258421.jpg</td>\n",
       "    </tr>\n",
       "    <tr>\n",
       "      <th>imageData</th>\n",
       "      <td>None</td>\n",
       "    </tr>\n",
       "    <tr>\n",
       "      <th>imageHeight</th>\n",
       "      <td>1152</td>\n",
       "    </tr>\n",
       "    <tr>\n",
       "      <th>imageWidth</th>\n",
       "      <td>768</td>\n",
       "    </tr>\n",
       "  </tbody>\n",
       "</table>\n",
       "</div>"
      ],
      "text/plain": [
       "                                                                                                                                                                                                                                                                                                                                                                                              258421\n",
       "version                                                                                                                                                                                                                                                                                                                                                                                        5.3.1\n",
       "flags                                                                                                                                                                                                                                                                                                                                                                                             {}\n",
       "shapes       [{'label': 'person', 'points': [[340.2519836425781, 466.943359375], [418.9939880371094, 777.34423828125]], 'group_id': None, 'description': '', 'shape_type': 'rectangle', 'flags': {}}, {'label': 'person', 'points': [[386.076124567474, 443.94463667820065], [460.81660899653974, 777.1626297577855]], 'group_id': None, 'description': '', 'shape_type': 'rectangle', 'flags': {}}]\n",
       "imagePath                                                                                                                                                                                                                                                                                                                                                                                 258421.jpg\n",
       "imageData                                                                                                                                                                                                                                                                                                                                                                                       None\n",
       "imageHeight                                                                                                                                                                                                                                                                                                                                                                                     1152\n",
       "imageWidth                                                                                                                                                                                                                                                                                                                                                                                       768"
      ]
     },
     "execution_count": 11,
     "metadata": {},
     "output_type": "execute_result"
    }
   ],
   "source": [
    "# Get the row from the 'annotation_df' DataFrame corresponding to the 'file_id'\n",
    "annotation_df.iloc[0].to_frame()"
   ]
  },
  {
   "cell_type": "code",
   "execution_count": null,
   "id": "deb4e295-80d6-4b24-a2c9-55cff48468f3",
   "metadata": {},
   "outputs": [],
   "source": []
  },
  {
   "cell_type": "code",
   "execution_count": 12,
   "id": "cb61240d-f78c-49a3-8bd0-02dfdd76399f",
   "metadata": {},
   "outputs": [],
   "source": [
    "import xml.etree.ElementTree as ET\n",
    "import xml.dom.minidom\n",
    "\n",
    "def prettify(elem):\n",
    "    \"\"\"Return a pretty-printed XML string for the Element.\"\"\"\n",
    "    rough_string = ET.tostring(elem, 'utf-8')\n",
    "    reparsed = xml.dom.minidom.parseString(rough_string)\n",
    "    return reparsed.toprettyxml(indent=\"  \")\n",
    "\n",
    "def convert_boxes(boxes):\n",
    "    \"\"\"Convert boxes from custom format to CVAT format.\"\"\"\n",
    "    converted = []\n",
    "    for image_boxes in boxes:\n",
    "        image_converted = []\n",
    "        for box in image_boxes:\n",
    "            for label, coords in box.items():\n",
    "                cvat_box = {\n",
    "                    \"label\": label,\n",
    "                    \"xtl\": str(coords[0]),\n",
    "                    \"ytl\": str(coords[1]),\n",
    "                    \"xbr\": str(coords[2]),\n",
    "                    \"ybr\": str(coords[3])\n",
    "                }\n",
    "                image_converted.append(cvat_box)\n",
    "        converted.append(image_converted)\n",
    "    return converted\n",
    "\n",
    "def create_cvat_xml(labels, boxes, colors, dims, image_names, file_name):\n",
    "    converted_boxes = convert_boxes(boxes)\n",
    "\n",
    "    annotations = ET.Element(\"annotations\")\n",
    "    version = ET.SubElement(annotations, \"version\")\n",
    "    version.text = \"1.1\"\n",
    "\n",
    "    # Meta information (modify as needed)\n",
    "    meta = ET.SubElement(annotations, \"meta\")\n",
    "    task = ET.SubElement(meta, \"task\")\n",
    "    ET.SubElement(task, \"id\").text = \"1\"  # Example ID\n",
    "    ET.SubElement(task, \"name\").text = \"Image Annotation Task\"\n",
    "    ET.SubElement(task, \"size\").text = str(len(dims))\n",
    "    ET.SubElement(task, \"mode\").text = \"annotation\"\n",
    "    ET.SubElement(task, \"overlap\").text = \"0\"\n",
    "\n",
    "    # Defining labels\n",
    "    labels_elem = ET.SubElement(task, \"labels\")\n",
    "    for label, color in zip(labels, colors):\n",
    "        label_elem = ET.SubElement(labels_elem, \"label\")\n",
    "        ET.SubElement(label_elem, \"name\").text = label\n",
    "        ET.SubElement(label_elem, \"color\").text = f\"#{color[0]:02x}{color[1]:02x}{color[2]:02x}\"\n",
    "        ET.SubElement(label_elem, \"type\").text = \"rectangle\"\n",
    "\n",
    "    # Images and bounding boxes\n",
    "    for i, (dim, boxes_per_image, image_name) in enumerate(zip(dims, converted_boxes, image_names)):\n",
    "        image_elem = ET.SubElement(annotations, \"image\", id=str(i), name=image_name, width=str(dim[0]), height=str(dim[1]))\n",
    "        for box in boxes_per_image:\n",
    "            ET.SubElement(image_elem, \"box\", label=box[\"label\"], xtl=box[\"xtl\"], ytl=box[\"ytl\"], xbr=box[\"xbr\"], ybr=box[\"ybr\"], occluded=\"0\")\n",
    "\n",
    "    # Writing to file with pretty print\n",
    "    with open(file_name, \"w\") as file:\n",
    "        file.write(prettify(annotations))"
   ]
  },
  {
   "cell_type": "code",
   "execution_count": 13,
   "id": "d62389ba-482d-4f51-844f-ed1c43921611",
   "metadata": {},
   "outputs": [],
   "source": [
    "boxes = [[{ shape['label'] : np.array(shape['points']).reshape(4).tolist()} for shape in shapes] for shapes in annotation_df['shapes']]\n",
    "colors = int_colors\n",
    "dims = annotation_df[['imageHeight', 'imageWidth']].values.tolist()\n",
    "\n",
    "create_cvat_xml(class_names, boxes, colors, dims, annotation_df.index.tolist(), \"labelme-to-cvat-bounding-box-annotations.xml\")"
   ]
  },
  {
   "cell_type": "code",
   "execution_count": null,
   "id": "99b95465-f08f-4421-b1f5-0eb7ae089479",
   "metadata": {},
   "outputs": [],
   "source": []
  }
 ],
 "metadata": {
  "kernelspec": {
   "display_name": "Python 3 (ipykernel)",
   "language": "python",
   "name": "python3"
  },
  "language_info": {
   "codemirror_mode": {
    "name": "ipython",
    "version": 3
   },
   "file_extension": ".py",
   "mimetype": "text/x-python",
   "name": "python",
   "nbconvert_exporter": "python",
   "pygments_lexer": "ipython3",
   "version": "3.11.4"
  },
  "vscode": {
   "interpreter": {
    "hash": "81794d4967e6c3204c66dcd87b604927b115b27c00565d3d43f05ba2f3a2cb0d"
   }
  }
 },
 "nbformat": 4,
 "nbformat_minor": 5
}
