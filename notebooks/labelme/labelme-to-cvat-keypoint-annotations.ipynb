{
 "cells": [
  {
   "cell_type": "markdown",
   "id": "8d68e733",
   "metadata": {},
   "source": [
    "## Setting Up Your Python Environment"
   ]
  },
  {
   "cell_type": "code",
   "execution_count": 1,
   "id": "2e2ee377",
   "metadata": {},
   "outputs": [],
   "source": [
    "# %%capture\n",
    "# # Install PyTorch with CUDA\n",
    "# !pip install torch torchvision torchaudio --index-url https://download.pytorch.org/whl/cu118\n",
    "\n",
    "# # Install additional dependencies\n",
    "# !pip install datasets matplotlib pandas pillow tqdm\n",
    "\n",
    "# # Install older pyzmq and jupyter client versions\n",
    "# !pip install --upgrade \"jupyter_client<8\" \"pyzmq<25\"\n",
    "\n",
    "# # Install utility packages\n",
    "# !pip install cjm_pandas_utils cjm_pil_utils cjm_pytorch_utils"
   ]
  },
  {
   "cell_type": "markdown",
   "id": "e5d9dea7",
   "metadata": {},
   "source": [
    "## Importing the Required Dependencies"
   ]
  },
  {
   "cell_type": "code",
   "execution_count": 2,
   "id": "afbf483d",
   "metadata": {},
   "outputs": [],
   "source": [
    "# Import Python Standard Library dependencies\n",
    "from copy import copy\n",
    "import datetime\n",
    "from functools import partial\n",
    "from glob import glob\n",
    "import json\n",
    "import math\n",
    "import multiprocessing\n",
    "import os\n",
    "from pathlib import Path\n",
    "import random\n",
    "\n",
    "# Import utility functions\n",
    "from cjm_pandas_utils.core import markdown_to_pandas\n",
    "from cjm_psl_utils.core import download_file, file_extract, get_source_code\n",
    "from cjm_pil_utils.core import resize_img, get_img_files\n",
    "from cjm_pytorch_utils.core import set_seed, pil_to_tensor, tensor_to_pil, get_torch_device, denorm_img_tensor, move_data_to_device\n",
    "from cjm_torchvision_tfms.core import ResizeMax, PadSquare, CustomRandomIoUCrop\n",
    "\n",
    "# Import the distinctipy module\n",
    "from distinctipy import distinctipy\n",
    "\n",
    "# Import matplotlib for creating plots\n",
    "import matplotlib.pyplot as plt\n",
    "\n",
    "# Import numpy \n",
    "import numpy as np\n",
    "\n",
    "# Import pandas module for data manipulation\n",
    "import pandas as pd\n",
    "\n",
    "# Set options for Pandas DataFrame display\n",
    "pd.set_option('max_colwidth', None)  # Do not truncate the contents of cells in the DataFrame\n",
    "pd.set_option('display.max_rows', None)  # Display all rows in the DataFrame\n",
    "pd.set_option('display.max_columns', None)  # Display all columns in the DataFrame\n",
    "\n",
    "# Import PIL for image manipulation\n",
    "from PIL import Image\n",
    "\n",
    "# Import PyTorch dependencies\n",
    "import torch\n",
    "from torch.utils.data import Dataset, DataLoader\n",
    "\n",
    "import torchvision\n",
    "torchvision.disable_beta_transforms_warning()\n",
    "from torchvision.tv_tensors import BoundingBoxes\n",
    "from torchvision.utils import draw_bounding_boxes, draw_keypoints\n",
    "import torchvision.transforms.v2  as transforms\n",
    "from torchvision.transforms.v2 import functional as TF\n",
    "\n",
    "# Import tqdm for progress bar\n",
    "from tqdm.auto import tqdm"
   ]
  },
  {
   "cell_type": "markdown",
   "id": "b9313246",
   "metadata": {},
   "source": [
    "## Loading and Exploring the Dataset"
   ]
  },
  {
   "cell_type": "markdown",
   "id": "fcbac9c8-bcb7-4cf2-a394-8e9154c09129",
   "metadata": {},
   "source": [
    "### Setting the Directory Paths"
   ]
  },
  {
   "cell_type": "code",
   "execution_count": 3,
   "id": "8cc03c31-497c-4efa-aa63-4b453920e6c9",
   "metadata": {},
   "outputs": [
    {
     "data": {
      "text/html": [
       "<style type=\"text/css\">\n",
       "</style>\n",
       "<table id=\"T_eb613\">\n",
       "  <thead>\n",
       "  </thead>\n",
       "  <tbody>\n",
       "    <tr>\n",
       "      <th id=\"T_eb613_level0_row0\" class=\"row_heading level0 row0\" >Dataset Directory:</th>\n",
       "      <td id=\"T_eb613_row0_col0\" class=\"data row0 col0\" >/mnt/980_1TB_2/Datasets</td>\n",
       "    </tr>\n",
       "    <tr>\n",
       "      <th id=\"T_eb613_level0_row1\" class=\"row_heading level0 row1\" >Archive Directory:</th>\n",
       "      <td id=\"T_eb613_row1_col0\" class=\"data row1 col0\" >/mnt/980_1TB_2/Datasets/../Archive</td>\n",
       "    </tr>\n",
       "  </tbody>\n",
       "</table>\n"
      ],
      "text/plain": [
       "<pandas.io.formats.style.Styler at 0x7faca04aa950>"
      ]
     },
     "execution_count": 3,
     "metadata": {},
     "output_type": "execute_result"
    }
   ],
   "source": [
    "# Define path to store datasets\n",
    "dataset_dir = Path(\"/mnt/980_1TB_2/Datasets/\")\n",
    "# Create the dataset directory if it does not exist\n",
    "dataset_dir.mkdir(parents=True, exist_ok=True)\n",
    "\n",
    "# Define path to store archive files\n",
    "archive_dir = dataset_dir/'../Archive'\n",
    "# Create the archive directory if it does not exist\n",
    "archive_dir.mkdir(parents=True, exist_ok=True)\n",
    "\n",
    "pd.Series({\n",
    "    \"Dataset Directory:\": dataset_dir, \n",
    "    \"Archive Directory:\": archive_dir\n",
    "}).to_frame().style.hide(axis='columns')"
   ]
  },
  {
   "cell_type": "markdown",
   "id": "785e95d3",
   "metadata": {},
   "source": [
    "### Setting the Dataset Path"
   ]
  },
  {
   "cell_type": "code",
   "execution_count": 4,
   "id": "3021504a-a76c-4c7b-b126-e6b3d35b1322",
   "metadata": {},
   "outputs": [
    {
     "data": {
      "text/html": [
       "<style type=\"text/css\">\n",
       "</style>\n",
       "<table id=\"T_4fb7c\">\n",
       "  <thead>\n",
       "  </thead>\n",
       "  <tbody>\n",
       "    <tr>\n",
       "      <th id=\"T_4fb7c_level0_row0\" class=\"row_heading level0 row0\" >HuggingFace Dataset:</th>\n",
       "      <td id=\"T_4fb7c_row0_col0\" class=\"data row0 col0\" >cj-mills/labelme-keypoint-toy-dataset</td>\n",
       "    </tr>\n",
       "    <tr>\n",
       "      <th id=\"T_4fb7c_level0_row1\" class=\"row_heading level0 row1\" >Archive Path:</th>\n",
       "      <td id=\"T_4fb7c_row1_col0\" class=\"data row1 col0\" >/mnt/980_1TB_2/Datasets/../Archive/labelme-keypoint-toy-dataset.zip</td>\n",
       "    </tr>\n",
       "    <tr>\n",
       "      <th id=\"T_4fb7c_level0_row2\" class=\"row_heading level0 row2\" >Dataset Path:</th>\n",
       "      <td id=\"T_4fb7c_row2_col0\" class=\"data row2 col0\" >/mnt/980_1TB_2/Datasets/labelme-keypoint-toy-dataset</td>\n",
       "    </tr>\n",
       "  </tbody>\n",
       "</table>\n"
      ],
      "text/plain": [
       "<pandas.io.formats.style.Styler at 0x7faca04d4e90>"
      ]
     },
     "execution_count": 4,
     "metadata": {},
     "output_type": "execute_result"
    }
   ],
   "source": [
    "# Set the name of the dataset\n",
    "dataset_name = 'labelme-keypoint-toy-dataset'\n",
    "\n",
    "# Construct the HuggingFace Hub dataset name by combining the username and dataset name\n",
    "hf_dataset = f'cj-mills/{dataset_name}'\n",
    "\n",
    "# Create the path to the zip file that contains the dataset\n",
    "archive_path = Path(f'{archive_dir}/{dataset_name}.zip')\n",
    "\n",
    "# Create the path to the directory where the dataset will be extracted\n",
    "dataset_path = Path(f'{dataset_dir}/{dataset_name}')\n",
    "\n",
    "pd.Series({\n",
    "    \"HuggingFace Dataset:\": hf_dataset, \n",
    "    \"Archive Path:\": archive_path, \n",
    "    \"Dataset Path:\": dataset_path\n",
    "}).to_frame().style.hide(axis='columns')"
   ]
  },
  {
   "cell_type": "markdown",
   "id": "c838b7b0-f62b-457b-8546-3af787d48832",
   "metadata": {},
   "source": [
    "### Downloading the Dataset"
   ]
  },
  {
   "cell_type": "code",
   "execution_count": 5,
   "id": "dd5eb8a9-591a-4717-afe7-fd9cb7dff430",
   "metadata": {},
   "outputs": [
    {
     "name": "stdout",
     "output_type": "stream",
     "text": [
      "HuggingFace Dataset URL: https://huggingface.co/datasets/cj-mills/labelme-keypoint-toy-dataset/resolve/main/labelme-keypoint-toy-dataset.zip\n",
      "Dataset folder already exists\n"
     ]
    }
   ],
   "source": [
    "# Construct the HuggingFace Hub dataset URL\n",
    "dataset_url = f\"https://huggingface.co/datasets/{hf_dataset}/resolve/main/{dataset_name}.zip\"\n",
    "print(f\"HuggingFace Dataset URL: {dataset_url}\")\n",
    "\n",
    "# Set whether to delete the archive file after extracting the dataset\n",
    "delete_archive = True\n",
    "\n",
    "# Download the dataset if not present\n",
    "if dataset_path.is_dir():\n",
    "    print(\"Dataset folder already exists\")\n",
    "else:\n",
    "    print(\"Downloading dataset...\")\n",
    "    download_file(dataset_url, archive_dir)    \n",
    "    \n",
    "    print(\"Extracting dataset...\")\n",
    "    file_extract(fname=archive_path, dest=dataset_dir)\n",
    "    \n",
    "    # Delete the archive if specified\n",
    "    if delete_archive: archive_path.unlink()"
   ]
  },
  {
   "cell_type": "markdown",
   "id": "d00c984d-9192-453e-9b73-b21223e6635b",
   "metadata": {},
   "source": [
    "### Getting the Image and Annotation Folders"
   ]
  },
  {
   "cell_type": "code",
   "execution_count": 6,
   "id": "af04609c-d0ee-48d9-a9b9-d211579bfea6",
   "metadata": {},
   "outputs": [
    {
     "data": {
      "text/html": [
       "<div>\n",
       "<style scoped>\n",
       "    .dataframe tbody tr th:only-of-type {\n",
       "        vertical-align: middle;\n",
       "    }\n",
       "\n",
       "    .dataframe tbody tr th {\n",
       "        vertical-align: top;\n",
       "    }\n",
       "\n",
       "    .dataframe thead th {\n",
       "        text-align: right;\n",
       "    }\n",
       "</style>\n",
       "<table border=\"1\" class=\"dataframe\">\n",
       "  <thead>\n",
       "    <tr style=\"text-align: right;\">\n",
       "      <th></th>\n",
       "      <th>Image File</th>\n",
       "      <th>Annotation File</th>\n",
       "    </tr>\n",
       "  </thead>\n",
       "  <tbody>\n",
       "    <tr>\n",
       "      <th>0</th>\n",
       "      <td>133196.jpg</td>\n",
       "      <td>133196.json</td>\n",
       "    </tr>\n",
       "    <tr>\n",
       "      <th>1</th>\n",
       "      <td>245035.jpg</td>\n",
       "      <td>245035.json</td>\n",
       "    </tr>\n",
       "    <tr>\n",
       "      <th>2</th>\n",
       "      <td>245036.jpg</td>\n",
       "      <td>245036.json</td>\n",
       "    </tr>\n",
       "    <tr>\n",
       "      <th>3</th>\n",
       "      <td>247937.jpg</td>\n",
       "      <td>247937.json</td>\n",
       "    </tr>\n",
       "    <tr>\n",
       "      <th>4</th>\n",
       "      <td>3172614.jpg</td>\n",
       "      <td>3172614.json</td>\n",
       "    </tr>\n",
       "  </tbody>\n",
       "</table>\n",
       "</div>"
      ],
      "text/plain": [
       "    Image File Annotation File\n",
       "0   133196.jpg     133196.json\n",
       "1   245035.jpg     245035.json\n",
       "2   245036.jpg     245036.json\n",
       "3   247937.jpg     247937.json\n",
       "4  3172614.jpg    3172614.json"
      ]
     },
     "execution_count": 6,
     "metadata": {},
     "output_type": "execute_result"
    }
   ],
   "source": [
    "# Get a list of image files in the dataset\n",
    "img_file_paths = get_img_files(dataset_path)\n",
    "\n",
    "# Get a list of JSON files in the dataset\n",
    "annotation_file_paths = list(dataset_path.glob('*.json'))\n",
    "\n",
    "# Display the names of the folders using a Pandas DataFrame\n",
    "pd.DataFrame({\"Image File\": [file.name for file in img_file_paths], \n",
    "              \"Annotation File\":[file.name for file in annotation_file_paths]}).head()"
   ]
  },
  {
   "cell_type": "markdown",
   "id": "07826ef6-3915-4910-bbc4-4628a4df313e",
   "metadata": {},
   "source": [
    "### Get Image File Paths"
   ]
  },
  {
   "cell_type": "code",
   "execution_count": 7,
   "id": "8b17c5a7-251f-4cc2-8f3f-b62822d3cba6",
   "metadata": {},
   "outputs": [
    {
     "name": "stdout",
     "output_type": "stream",
     "text": [
      "Number of Images: 38\n"
     ]
    },
    {
     "data": {
      "text/html": [
       "<div>\n",
       "<style scoped>\n",
       "    .dataframe tbody tr th:only-of-type {\n",
       "        vertical-align: middle;\n",
       "    }\n",
       "\n",
       "    .dataframe tbody tr th {\n",
       "        vertical-align: top;\n",
       "    }\n",
       "\n",
       "    .dataframe thead th {\n",
       "        text-align: right;\n",
       "    }\n",
       "</style>\n",
       "<table border=\"1\" class=\"dataframe\">\n",
       "  <thead>\n",
       "    <tr style=\"text-align: right;\">\n",
       "      <th></th>\n",
       "      <th>0</th>\n",
       "    </tr>\n",
       "  </thead>\n",
       "  <tbody>\n",
       "    <tr>\n",
       "      <th>133196</th>\n",
       "      <td>/mnt/980_1TB_2/Datasets/labelme-keypoint-toy-dataset/133196.jpg</td>\n",
       "    </tr>\n",
       "    <tr>\n",
       "      <th>245035</th>\n",
       "      <td>/mnt/980_1TB_2/Datasets/labelme-keypoint-toy-dataset/245035.jpg</td>\n",
       "    </tr>\n",
       "    <tr>\n",
       "      <th>245036</th>\n",
       "      <td>/mnt/980_1TB_2/Datasets/labelme-keypoint-toy-dataset/245036.jpg</td>\n",
       "    </tr>\n",
       "    <tr>\n",
       "      <th>247937</th>\n",
       "      <td>/mnt/980_1TB_2/Datasets/labelme-keypoint-toy-dataset/247937.jpg</td>\n",
       "    </tr>\n",
       "    <tr>\n",
       "      <th>3172614</th>\n",
       "      <td>/mnt/980_1TB_2/Datasets/labelme-keypoint-toy-dataset/3172614.jpg</td>\n",
       "    </tr>\n",
       "  </tbody>\n",
       "</table>\n",
       "</div>"
      ],
      "text/plain": [
       "                                                                        0\n",
       "133196    /mnt/980_1TB_2/Datasets/labelme-keypoint-toy-dataset/133196.jpg\n",
       "245035    /mnt/980_1TB_2/Datasets/labelme-keypoint-toy-dataset/245035.jpg\n",
       "245036    /mnt/980_1TB_2/Datasets/labelme-keypoint-toy-dataset/245036.jpg\n",
       "247937    /mnt/980_1TB_2/Datasets/labelme-keypoint-toy-dataset/247937.jpg\n",
       "3172614  /mnt/980_1TB_2/Datasets/labelme-keypoint-toy-dataset/3172614.jpg"
      ]
     },
     "execution_count": 7,
     "metadata": {},
     "output_type": "execute_result"
    }
   ],
   "source": [
    "# Create a dictionary that maps file names to file paths\n",
    "img_dict = {file.stem : file for file in img_file_paths}\n",
    "\n",
    "# Print the number of image files\n",
    "print(f\"Number of Images: {len(img_dict)}\")\n",
    "\n",
    "# Display the first five entries from the dictionary using a Pandas DataFrame\n",
    "pd.DataFrame.from_dict(img_dict, orient='index').head()"
   ]
  },
  {
   "cell_type": "markdown",
   "id": "e0520d5c-b855-4cf9-b739-e94b853a67df",
   "metadata": {},
   "source": [
    "### Get Image Annotations"
   ]
  },
  {
   "cell_type": "code",
   "execution_count": 8,
   "id": "2955401c-14f7-4c89-92bf-3edbce5de0dd",
   "metadata": {},
   "outputs": [
    {
     "data": {
      "application/vnd.jupyter.widget-view+json": {
       "model_id": "5e8934326cbe427dbd4d006dbfcc3d9e",
       "version_major": 2,
       "version_minor": 0
      },
      "text/plain": [
       "  0%|          | 0/38 [00:00<?, ?it/s]"
      ]
     },
     "metadata": {},
     "output_type": "display_data"
    },
    {
     "data": {
      "text/html": [
       "<div>\n",
       "<style scoped>\n",
       "    .dataframe tbody tr th:only-of-type {\n",
       "        vertical-align: middle;\n",
       "    }\n",
       "\n",
       "    .dataframe tbody tr th {\n",
       "        vertical-align: top;\n",
       "    }\n",
       "\n",
       "    .dataframe thead th {\n",
       "        text-align: right;\n",
       "    }\n",
       "</style>\n",
       "<table border=\"1\" class=\"dataframe\">\n",
       "  <thead>\n",
       "    <tr style=\"text-align: right;\">\n",
       "      <th></th>\n",
       "      <th>version</th>\n",
       "      <th>flags</th>\n",
       "      <th>shapes</th>\n",
       "      <th>imagePath</th>\n",
       "      <th>imageData</th>\n",
       "      <th>imageHeight</th>\n",
       "      <th>imageWidth</th>\n",
       "    </tr>\n",
       "    <tr>\n",
       "      <th>index</th>\n",
       "      <th></th>\n",
       "      <th></th>\n",
       "      <th></th>\n",
       "      <th></th>\n",
       "      <th></th>\n",
       "      <th></th>\n",
       "      <th></th>\n",
       "    </tr>\n",
       "  </thead>\n",
       "  <tbody>\n",
       "    <tr>\n",
       "      <th>133196</th>\n",
       "      <td>5.3.1</td>\n",
       "      <td>{}</td>\n",
       "      <td>[{'label': 'nose', 'points': [[386.70731707317077, 297.109756097561]], 'group_id': None, 'description': '', 'shape_type': 'point', 'flags': {}}]</td>\n",
       "      <td>133196.jpg</td>\n",
       "      <td>None</td>\n",
       "      <td>768</td>\n",
       "      <td>960</td>\n",
       "    </tr>\n",
       "    <tr>\n",
       "      <th>245035</th>\n",
       "      <td>5.3.1</td>\n",
       "      <td>{}</td>\n",
       "      <td>[{'label': 'nose', 'points': [[334.4587155963303, 319.57798165137615]], 'group_id': None, 'description': '', 'shape_type': 'point', 'flags': {}}]</td>\n",
       "      <td>245035.jpg</td>\n",
       "      <td>None</td>\n",
       "      <td>1152</td>\n",
       "      <td>768</td>\n",
       "    </tr>\n",
       "    <tr>\n",
       "      <th>245036</th>\n",
       "      <td>5.3.1</td>\n",
       "      <td>{}</td>\n",
       "      <td>[{'label': 'nose', 'points': [[226.8571428571429, 240.80357142857144]], 'group_id': None, 'description': '', 'shape_type': 'point', 'flags': {}}]</td>\n",
       "      <td>245036.jpg</td>\n",
       "      <td>None</td>\n",
       "      <td>1120</td>\n",
       "      <td>768</td>\n",
       "    </tr>\n",
       "    <tr>\n",
       "      <th>247937</th>\n",
       "      <td>5.3.1</td>\n",
       "      <td>{}</td>\n",
       "      <td>[{'label': 'nose', 'points': [[454.6585365853659, 230.03658536585363]], 'group_id': None, 'description': '', 'shape_type': 'point', 'flags': {}}]</td>\n",
       "      <td>247937.jpg</td>\n",
       "      <td>None</td>\n",
       "      <td>768</td>\n",
       "      <td>1152</td>\n",
       "    </tr>\n",
       "    <tr>\n",
       "      <th>3172614</th>\n",
       "      <td>5.3.1</td>\n",
       "      <td>{}</td>\n",
       "      <td>[{'label': 'nose', 'points': [[539.4146341463414, 608.0853658536585]], 'group_id': None, 'description': '', 'shape_type': 'point', 'flags': {}}]</td>\n",
       "      <td>3172614.jpg</td>\n",
       "      <td>None</td>\n",
       "      <td>768</td>\n",
       "      <td>1152</td>\n",
       "    </tr>\n",
       "  </tbody>\n",
       "</table>\n",
       "</div>"
      ],
      "text/plain": [
       "        version flags  \\\n",
       "index                   \n",
       "133196    5.3.1    {}   \n",
       "245035    5.3.1    {}   \n",
       "245036    5.3.1    {}   \n",
       "247937    5.3.1    {}   \n",
       "3172614   5.3.1    {}   \n",
       "\n",
       "                                                                                                                                                    shapes  \\\n",
       "index                                                                                                                                                        \n",
       "133196    [{'label': 'nose', 'points': [[386.70731707317077, 297.109756097561]], 'group_id': None, 'description': '', 'shape_type': 'point', 'flags': {}}]   \n",
       "245035   [{'label': 'nose', 'points': [[334.4587155963303, 319.57798165137615]], 'group_id': None, 'description': '', 'shape_type': 'point', 'flags': {}}]   \n",
       "245036   [{'label': 'nose', 'points': [[226.8571428571429, 240.80357142857144]], 'group_id': None, 'description': '', 'shape_type': 'point', 'flags': {}}]   \n",
       "247937   [{'label': 'nose', 'points': [[454.6585365853659, 230.03658536585363]], 'group_id': None, 'description': '', 'shape_type': 'point', 'flags': {}}]   \n",
       "3172614   [{'label': 'nose', 'points': [[539.4146341463414, 608.0853658536585]], 'group_id': None, 'description': '', 'shape_type': 'point', 'flags': {}}]   \n",
       "\n",
       "           imagePath imageData imageHeight imageWidth  \n",
       "index                                                  \n",
       "133196    133196.jpg      None         768        960  \n",
       "245035    245035.jpg      None        1152        768  \n",
       "245036    245036.jpg      None        1120        768  \n",
       "247937    247937.jpg      None         768       1152  \n",
       "3172614  3172614.jpg      None         768       1152  "
      ]
     },
     "execution_count": 8,
     "metadata": {},
     "output_type": "execute_result"
    }
   ],
   "source": [
    "# Create a generator that yields Pandas DataFrames containing the data from each JSON file\n",
    "cls_dataframes = (pd.read_json(f, orient='index').transpose() for f in tqdm(annotation_file_paths))\n",
    "\n",
    "# Concatenate the DataFrames into a single DataFrame\n",
    "annotation_df = pd.concat(cls_dataframes, ignore_index=False)\n",
    "\n",
    "# Assign the image file name as the index for each row\n",
    "annotation_df['index'] = annotation_df.apply(lambda row: row['imagePath'].split('.')[0], axis=1)\n",
    "annotation_df = annotation_df.set_index('index')\n",
    "\n",
    "# Keep only the rows that correspond to the filenames in the 'img_dict' dictionary\n",
    "annotation_df = annotation_df.loc[list(img_dict.keys())]\n",
    "\n",
    "# Print the first 5 rows of the DataFrame\n",
    "annotation_df.head()"
   ]
  },
  {
   "cell_type": "code",
   "execution_count": null,
   "id": "bb533f2d-73e5-4455-9d8c-d43162f69495",
   "metadata": {},
   "outputs": [],
   "source": []
  },
  {
   "cell_type": "code",
   "execution_count": 9,
   "id": "1ce86838-fa35-4eae-9be6-9d1f2c7f7b42",
   "metadata": {},
   "outputs": [],
   "source": [
    "# Explode the 'shapes' column in the annotation_df dataframe\n",
    "# Convert the resulting series to a dataframe and rename the 'shapes' column to 'shapes'\n",
    "# Apply the pandas Series function to the 'shapes' column of the dataframe\n",
    "shapes_df = annotation_df['shapes'].explode().to_frame().shapes.apply(pd.Series)"
   ]
  },
  {
   "cell_type": "code",
   "execution_count": 10,
   "id": "11049e9b-0eac-49f3-90ec-eabb3bd132fb",
   "metadata": {},
   "outputs": [
    {
     "data": {
      "text/html": [
       "<div>\n",
       "<style scoped>\n",
       "    .dataframe tbody tr th:only-of-type {\n",
       "        vertical-align: middle;\n",
       "    }\n",
       "\n",
       "    .dataframe tbody tr th {\n",
       "        vertical-align: top;\n",
       "    }\n",
       "\n",
       "    .dataframe thead th {\n",
       "        text-align: right;\n",
       "    }\n",
       "</style>\n",
       "<table border=\"1\" class=\"dataframe\">\n",
       "  <thead>\n",
       "    <tr style=\"text-align: right;\">\n",
       "      <th></th>\n",
       "      <th>0</th>\n",
       "    </tr>\n",
       "  </thead>\n",
       "  <tbody>\n",
       "    <tr>\n",
       "      <th>0</th>\n",
       "      <td>nose</td>\n",
       "    </tr>\n",
       "  </tbody>\n",
       "</table>\n",
       "</div>"
      ],
      "text/plain": [
       "      0\n",
       "0  nose"
      ]
     },
     "execution_count": 10,
     "metadata": {},
     "output_type": "execute_result"
    }
   ],
   "source": [
    "# Get a list of unique labels in the 'annotation_df' DataFrame\n",
    "class_names = shapes_df['label'].unique().tolist()\n",
    "\n",
    "# Display labels using a Pandas DataFrame\n",
    "pd.DataFrame(class_names)"
   ]
  },
  {
   "cell_type": "markdown",
   "id": "dc7de4b2",
   "metadata": {},
   "source": [
    "### Visualizing Keypoint Annotations"
   ]
  },
  {
   "cell_type": "markdown",
   "id": "66afae9d-7574-4ceb-9b82-7cb5a9735938",
   "metadata": {},
   "source": [
    "#### Generate a color map"
   ]
  },
  {
   "cell_type": "code",
   "execution_count": 11,
   "id": "8c7ae259-d74f-4c11-aaa3-1950df7bdd85",
   "metadata": {},
   "outputs": [
    {
     "data": {
      "image/png": "[encoded data removed]",
      "text/plain": [
       "<Figure size 800x800 with 1 Axes>"
      ]
     },
     "metadata": {},
     "output_type": "display_data"
    }
   ],
   "source": [
    "# Generate a list of colors with a length equal to the number of labels\n",
    "colors = distinctipy.get_colors(len(class_names))\n",
    "\n",
    "# Make a copy of the color map in integer format\n",
    "int_colors = [tuple(int(c*255) for c in color) for color in colors]\n",
    "\n",
    "# Generate a color swatch to visualize the color map\n",
    "distinctipy.color_swatch(colors)"
   ]
  },
  {
   "cell_type": "markdown",
   "id": "bf9b0a3f-a2b8-486c-b22b-94a65cbe617d",
   "metadata": {},
   "source": [
    "#### Download a font file"
   ]
  },
  {
   "cell_type": "code",
   "execution_count": 12,
   "id": "91ed12d4-fb92-4237-ba49-b4ddf9524fa9",
   "metadata": {},
   "outputs": [
    {
     "name": "stdout",
     "output_type": "stream",
     "text": [
      "The file ./KFOlCnqEu92Fr1MmEU9vAw.ttf already exists and overwrite is set to False.\n"
     ]
    }
   ],
   "source": [
    "# Set the name of the font file\n",
    "font_file = 'KFOlCnqEu92Fr1MmEU9vAw.ttf'\n",
    "\n",
    "# Download the font file\n",
    "download_file(f\"https://fonts.gstatic.com/s/roboto/v30/{font_file}\", \"./\")"
   ]
  },
  {
   "cell_type": "markdown",
   "id": "d138fe9d-c97c-401f-9848-6fa95a0a0aee",
   "metadata": {},
   "source": [
    "#### Define the bounding box annotation function"
   ]
  },
  {
   "cell_type": "code",
   "execution_count": 13,
   "id": "461087a7-9ccb-4ed8-bb01-2b8b48dd70c7",
   "metadata": {},
   "outputs": [],
   "source": [
    "draw_bboxes = partial(draw_bounding_boxes, fill=True, width=2, font=font_file, font_size=25)"
   ]
  },
  {
   "cell_type": "code",
   "execution_count": null,
   "id": "d79f637e-d69b-4715-85ea-40a0ce7fd65c",
   "metadata": {},
   "outputs": [],
   "source": []
  },
  {
   "cell_type": "markdown",
   "id": "7183cd2a-5743-4d21-905e-c180ae02b606",
   "metadata": {},
   "source": [
    "#### Inspect the corresponding annotation data"
   ]
  },
  {
   "cell_type": "code",
   "execution_count": 14,
   "id": "e9a5f1b9-cb9f-4e5c-bee2-26e9f1e29513",
   "metadata": {},
   "outputs": [
    {
     "data": {
      "text/html": [
       "<div>\n",
       "<style scoped>\n",
       "    .dataframe tbody tr th:only-of-type {\n",
       "        vertical-align: middle;\n",
       "    }\n",
       "\n",
       "    .dataframe tbody tr th {\n",
       "        vertical-align: top;\n",
       "    }\n",
       "\n",
       "    .dataframe thead th {\n",
       "        text-align: right;\n",
       "    }\n",
       "</style>\n",
       "<table border=\"1\" class=\"dataframe\">\n",
       "  <thead>\n",
       "    <tr style=\"text-align: right;\">\n",
       "      <th></th>\n",
       "      <th>133196</th>\n",
       "    </tr>\n",
       "  </thead>\n",
       "  <tbody>\n",
       "    <tr>\n",
       "      <th>version</th>\n",
       "      <td>5.3.1</td>\n",
       "    </tr>\n",
       "    <tr>\n",
       "      <th>flags</th>\n",
       "      <td>{}</td>\n",
       "    </tr>\n",
       "    <tr>\n",
       "      <th>shapes</th>\n",
       "      <td>[{'label': 'nose', 'points': [[386.70731707317077, 297.109756097561]], 'group_id': None, 'description': '', 'shape_type': 'point', 'flags': {}}]</td>\n",
       "    </tr>\n",
       "    <tr>\n",
       "      <th>imagePath</th>\n",
       "      <td>133196.jpg</td>\n",
       "    </tr>\n",
       "    <tr>\n",
       "      <th>imageData</th>\n",
       "      <td>None</td>\n",
       "    </tr>\n",
       "    <tr>\n",
       "      <th>imageHeight</th>\n",
       "      <td>768</td>\n",
       "    </tr>\n",
       "    <tr>\n",
       "      <th>imageWidth</th>\n",
       "      <td>960</td>\n",
       "    </tr>\n",
       "  </tbody>\n",
       "</table>\n",
       "</div>"
      ],
      "text/plain": [
       "                                                                                                                                                       133196\n",
       "version                                                                                                                                                 5.3.1\n",
       "flags                                                                                                                                                      {}\n",
       "shapes       [{'label': 'nose', 'points': [[386.70731707317077, 297.109756097561]], 'group_id': None, 'description': '', 'shape_type': 'point', 'flags': {}}]\n",
       "imagePath                                                                                                                                          133196.jpg\n",
       "imageData                                                                                                                                                None\n",
       "imageHeight                                                                                                                                               768\n",
       "imageWidth                                                                                                                                                960"
      ]
     },
     "execution_count": 14,
     "metadata": {},
     "output_type": "execute_result"
    }
   ],
   "source": [
    "# Get the row from the 'annotation_df' DataFrame corresponding to the 'file_id'\n",
    "annotation_df.loc[list(img_dict.keys())[0]].to_frame()"
   ]
  },
  {
   "cell_type": "code",
   "execution_count": null,
   "id": "c0e1a0af-7018-4f47-affb-ff07a381ec9d",
   "metadata": {},
   "outputs": [],
   "source": []
  },
  {
   "cell_type": "code",
   "execution_count": 15,
   "id": "f0553252-6646-4c88-9379-1684ae082fde",
   "metadata": {},
   "outputs": [],
   "source": [
    "import xml.etree.ElementTree as ET\n",
    "import xml.dom.minidom\n",
    "\n",
    "def prettify(elem):\n",
    "    \"\"\"Return a pretty-printed XML string for the Element.\"\"\"\n",
    "    rough_string = ET.tostring(elem, 'utf-8')\n",
    "    reparsed = xml.dom.minidom.parseString(rough_string)\n",
    "    return reparsed.toprettyxml(indent=\"  \")\n",
    "\n",
    "def convert_keypoints(keypoints):\n",
    "    \"\"\"Convert keypoints from custom format to CVAT format.\"\"\"\n",
    "    converted = []\n",
    "    for image_keypoints in keypoints:\n",
    "        image_converted = []\n",
    "        for keypoint in image_keypoints:\n",
    "            for label, coords in keypoint.items():\n",
    "                cvat_keypoint = {\n",
    "                    \"label\": label,\n",
    "                    \"points\": \",\".join(map(str, coords))  # x1,y1,x2,y2,...\n",
    "                }\n",
    "                image_converted.append(cvat_keypoint)\n",
    "        converted.append(image_converted)\n",
    "    return converted\n",
    "\n",
    "def create_cvat_xml(labels, keypoints, colors, dims, image_names, file_name):\n",
    "    converted_keypoints = convert_keypoints(keypoints)\n",
    "\n",
    "    annotations = ET.Element(\"annotations\")\n",
    "    version = ET.SubElement(annotations, \"version\")\n",
    "    version.text = \"1.1\"\n",
    "\n",
    "    # Meta information (modify as needed)\n",
    "    meta = ET.SubElement(annotations, \"meta\")\n",
    "    task = ET.SubElement(meta, \"task\")\n",
    "    ET.SubElement(task, \"id\").text = \"1\"  # Example ID\n",
    "    ET.SubElement(task, \"name\").text = \"Image Annotation Task\"\n",
    "    ET.SubElement(task, \"size\").text = str(len(dims))\n",
    "    ET.SubElement(task, \"mode\").text = \"annotation\"\n",
    "    ET.SubElement(task, \"overlap\").text = \"0\"\n",
    "\n",
    "    # Defining labels\n",
    "    labels_elem = ET.SubElement(task, \"labels\")\n",
    "    for label, color in zip(labels, colors):\n",
    "        label_elem = ET.SubElement(labels_elem, \"label\")\n",
    "        ET.SubElement(label_elem, \"name\").text = label\n",
    "        ET.SubElement(label_elem, \"color\").text = f\"#{color[0]:02x}{color[1]:02x}{color[2]:02x}\"\n",
    "        ET.SubElement(label_elem, \"type\").text = \"points\"  # Change to 'points'\n",
    "\n",
    "    # Images and keypoints\n",
    "    for i, (dim, keypoints_per_image, image_name) in enumerate(zip(dims, converted_keypoints, image_names)):\n",
    "        image_elem = ET.SubElement(annotations, \"image\", id=str(i), name=image_name, width=str(dim[0]), height=str(dim[1]))\n",
    "        for keypoint in keypoints_per_image:\n",
    "            ET.SubElement(image_elem, \"points\", label=keypoint[\"label\"], points=keypoint[\"points\"], occluded=\"0\")\n",
    "\n",
    "    # Writing to file with pretty print\n",
    "    with open(file_name, \"w\") as file:\n",
    "        file.write(prettify(annotations))"
   ]
  },
  {
   "cell_type": "code",
   "execution_count": null,
   "id": "0ec39ed5-be20-4f27-9e2d-121c0c2b068c",
   "metadata": {},
   "outputs": [],
   "source": []
  },
  {
   "cell_type": "code",
   "execution_count": 16,
   "id": "7a03b1c7-f187-44be-85e6-b06c3fdcfbbb",
   "metadata": {},
   "outputs": [],
   "source": [
    "points = [[{ shape['label'] : np.array(shape['points']).reshape(2).tolist()} for shape in shapes] for shapes in annotation_df['shapes']]"
   ]
  },
  {
   "cell_type": "code",
   "execution_count": 18,
   "id": "b4fe25f3-4a1a-4885-8c32-fb2af65fbe03",
   "metadata": {},
   "outputs": [],
   "source": [
    "colors = int_colors\n",
    "dims = annotation_df[['imageHeight', 'imageWidth']].values.tolist()"
   ]
  },
  {
   "cell_type": "code",
   "execution_count": 19,
   "id": "1eec37e1-abeb-4b87-bf61-63726f700e90",
   "metadata": {},
   "outputs": [],
   "source": [
    "create_cvat_xml(class_names, points, colors, dims, annotation_df.index.tolist(), \"output.xml\")"
   ]
  },
  {
   "cell_type": "code",
   "execution_count": null,
   "id": "e45866f2-2429-4efb-bb97-7b1b58a1b1bf",
   "metadata": {},
   "outputs": [],
   "source": []
  }
 ],
 "metadata": {
  "kernelspec": {
   "display_name": "Python 3 (ipykernel)",
   "language": "python",
   "name": "python3"
  },
  "language_info": {
   "codemirror_mode": {
    "name": "ipython",
    "version": 3
   },
   "file_extension": ".py",
   "mimetype": "text/x-python",
   "name": "python",
   "nbconvert_exporter": "python",
   "pygments_lexer": "ipython3",
   "version": "3.11.4"
  }
 },
 "nbformat": 4,
 "nbformat_minor": 5
}
