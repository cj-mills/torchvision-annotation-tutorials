{
 "cells": [
  {
   "cell_type": "markdown",
   "id": "562e8e77",
   "metadata": {},
   "source": [
    "## Setting Up Your Python Environment"
   ]
  },
  {
   "cell_type": "code",
   "execution_count": 1,
   "id": "6569af2c",
   "metadata": {},
   "outputs": [],
   "source": [
    "# %%capture\n",
    "# # Install additional dependencies\n",
    "# !pip install pandas pillow tqdm\n",
    "\n",
    "# # Install package for creating visually distinct colormaps\n",
    "# !pip install distinctipy\n",
    "\n",
    "# # Install utility packages\n",
    "# !pip install cjm_psl_utils"
   ]
  },
  {
   "cell_type": "markdown",
   "id": "3f835e2b",
   "metadata": {},
   "source": [
    "## Importing the Required Dependencies"
   ]
  },
  {
   "cell_type": "code",
   "execution_count": 2,
   "id": "af4c9e24",
   "metadata": {},
   "outputs": [],
   "source": [
    "# Import Python Standard Library dependencies\n",
    "from glob import glob\n",
    "from pathlib import Path\n",
    "\n",
    "# Import utility functions\n",
    "from cjm_psl_utils.core import download_file, file_extract\n",
    "\n",
    "# Import the distinctipy module\n",
    "from distinctipy import distinctipy\n",
    "\n",
    "# Import numpy\n",
    "import numpy as np\n",
    "\n",
    "# Import the pandas package\n",
    "import pandas as pd\n",
    "\n",
    "# Do not truncate the contents of cells and display all rows and columns\n",
    "pd.set_option('max_colwidth', None, 'display.max_rows', None, 'display.max_columns', None)\n",
    "\n",
    "# Import PIL for image manipulation\n",
    "from PIL import Image\n",
    "\n",
    "# Import tqdm for progress bar\n",
    "from tqdm.auto import tqdm\n",
    "\n",
    "# Import XML support\n",
    "import xml.etree.ElementTree as ET\n",
    "import xml.dom.minidom"
   ]
  },
  {
   "cell_type": "markdown",
   "id": "9e16f9cb",
   "metadata": {},
   "source": [
    "## Loading and Exploring the Dataset"
   ]
  },
  {
   "cell_type": "markdown",
   "id": "7f4abedc-5b02-45d3-b6e9-92e2b7ebd1c3",
   "metadata": {},
   "source": [
    "### Setting the Directory Paths"
   ]
  },
  {
   "cell_type": "code",
   "execution_count": 3,
   "id": "73a2baf2",
   "metadata": {},
   "outputs": [
    {
     "data": {
      "text/html": [
       "<style type=\"text/css\">\n",
       "</style>\n",
       "<table id=\"T_e008a\">\n",
       "  <thead>\n",
       "  </thead>\n",
       "  <tbody>\n",
       "    <tr>\n",
       "      <th id=\"T_e008a_level0_row0\" class=\"row_heading level0 row0\" >Dataset Directory:</th>\n",
       "      <td id=\"T_e008a_row0_col0\" class=\"data row0 col0\" >/mnt/980_1TB_2/Datasets</td>\n",
       "    </tr>\n",
       "    <tr>\n",
       "      <th id=\"T_e008a_level0_row1\" class=\"row_heading level0 row1\" >Archive Directory:</th>\n",
       "      <td id=\"T_e008a_row1_col0\" class=\"data row1 col0\" >/mnt/980_1TB_2/Datasets/../Archive</td>\n",
       "    </tr>\n",
       "  </tbody>\n",
       "</table>\n"
      ],
      "text/plain": [
       "<pandas.io.formats.style.Styler at 0x7f5256fa32d0>"
      ]
     },
     "execution_count": 3,
     "metadata": {},
     "output_type": "execute_result"
    }
   ],
   "source": [
    "# Define path to store datasets\n",
    "dataset_dir = Path(\"./Datasets/\")\n",
    "# Create the dataset directory if it does not exist\n",
    "dataset_dir.mkdir(parents=True, exist_ok=True)\n",
    "\n",
    "# Define path to store archive files\n",
    "archive_dir = dataset_dir/'../Archive'\n",
    "# Create the archive directory if it does not exist\n",
    "archive_dir.mkdir(parents=True, exist_ok=True)\n",
    "\n",
    "# Creating a Series with the paths and converting it to a DataFrame for display\n",
    "pd.Series({\n",
    "    \"Dataset Directory:\": dataset_dir, \n",
    "    \"Archive Directory:\": archive_dir\n",
    "}).to_frame().style.hide(axis='columns')"
   ]
  },
  {
   "cell_type": "markdown",
   "id": "a1197d58",
   "metadata": {},
   "source": [
    "### Setting the Dataset Path"
   ]
  },
  {
   "cell_type": "code",
   "execution_count": 4,
   "id": "b767b9b3-b910-4071-8e19-c717252946e2",
   "metadata": {},
   "outputs": [
    {
     "data": {
      "text/html": [
       "<style type=\"text/css\">\n",
       "</style>\n",
       "<table id=\"T_66d0e\">\n",
       "  <thead>\n",
       "  </thead>\n",
       "  <tbody>\n",
       "    <tr>\n",
       "      <th id=\"T_66d0e_level0_row0\" class=\"row_heading level0 row0\" >HuggingFace Dataset:</th>\n",
       "      <td id=\"T_66d0e_row0_col0\" class=\"data row0 col0\" >cj-mills/labelme-instance-segmentation-toy-dataset</td>\n",
       "    </tr>\n",
       "    <tr>\n",
       "      <th id=\"T_66d0e_level0_row1\" class=\"row_heading level0 row1\" >Archive Path:</th>\n",
       "      <td id=\"T_66d0e_row1_col0\" class=\"data row1 col0\" >/mnt/980_1TB_2/Datasets/../Archive/labelme-instance-segmentation-toy-dataset.zip</td>\n",
       "    </tr>\n",
       "    <tr>\n",
       "      <th id=\"T_66d0e_level0_row2\" class=\"row_heading level0 row2\" >Dataset Path:</th>\n",
       "      <td id=\"T_66d0e_row2_col0\" class=\"data row2 col0\" >/mnt/980_1TB_2/Datasets/labelme-instance-segmentation-toy-dataset</td>\n",
       "    </tr>\n",
       "  </tbody>\n",
       "</table>\n"
      ],
      "text/plain": [
       "<pandas.io.formats.style.Styler at 0x7f52556a0390>"
      ]
     },
     "execution_count": 4,
     "metadata": {},
     "output_type": "execute_result"
    }
   ],
   "source": [
    "# Set the name of the dataset\n",
    "dataset_name = 'labelme-instance-segmentation-toy-dataset'\n",
    "\n",
    "# Construct the HuggingFace Hub dataset name by combining the username and dataset name\n",
    "hf_dataset = f'cj-mills/{dataset_name}'\n",
    "\n",
    "# Create the path to the zip file that contains the dataset\n",
    "archive_path = Path(f'{archive_dir}/{dataset_name}.zip')\n",
    "\n",
    "# Create the path to the directory where the dataset will be extracted\n",
    "dataset_path = Path(f'{dataset_dir}/{dataset_name}')\n",
    "\n",
    "# Creating a Series with the dataset name and paths and converting it to a DataFrame for display\n",
    "pd.Series({\n",
    "    \"HuggingFace Dataset:\": hf_dataset, \n",
    "    \"Archive Path:\": archive_path, \n",
    "    \"Dataset Path:\": dataset_path\n",
    "}).to_frame().style.hide(axis='columns')"
   ]
  },
  {
   "cell_type": "markdown",
   "id": "b45d948a",
   "metadata": {},
   "source": [
    "### Downloading the Dataset"
   ]
  },
  {
   "cell_type": "code",
   "execution_count": 5,
   "id": "533f5bae-fdda-42d2-958a-fc1d1011fc18",
   "metadata": {},
   "outputs": [
    {
     "name": "stdout",
     "output_type": "stream",
     "text": [
      "HuggingFace Dataset URL: https://huggingface.co/datasets/cj-mills/labelme-instance-segmentation-toy-dataset/resolve/main/labelme-instance-segmentation-toy-dataset.zip\n",
      "Dataset folder already exists\n"
     ]
    }
   ],
   "source": [
    "# Construct the HuggingFace Hub dataset URL\n",
    "dataset_url = f\"https://huggingface.co/datasets/{hf_dataset}/resolve/main/{dataset_name}.zip\"\n",
    "print(f\"HuggingFace Dataset URL: {dataset_url}\")\n",
    "\n",
    "# Set whether to delete the archive file after extracting the dataset\n",
    "delete_archive = True\n",
    "\n",
    "# Download the dataset if not present\n",
    "if dataset_path.is_dir():\n",
    "    print(\"Dataset folder already exists\")\n",
    "else:\n",
    "    print(\"Downloading dataset...\")\n",
    "    download_file(dataset_url, archive_dir)    \n",
    "    \n",
    "    print(\"Extracting dataset...\")\n",
    "    file_extract(fname=archive_path, dest=dataset_dir)\n",
    "    \n",
    "    # Delete the archive if specified\n",
    "    if delete_archive: archive_path.unlink()"
   ]
  },
  {
   "cell_type": "markdown",
   "id": "2ed702c4",
   "metadata": {},
   "source": [
    "### Getting the Image and Annotation Files"
   ]
  },
  {
   "cell_type": "code",
   "execution_count": 6,
   "id": "d9ce689a",
   "metadata": {},
   "outputs": [
    {
     "data": {
      "text/html": [
       "<div>\n",
       "<style scoped>\n",
       "    .dataframe tbody tr th:only-of-type {\n",
       "        vertical-align: middle;\n",
       "    }\n",
       "\n",
       "    .dataframe tbody tr th {\n",
       "        vertical-align: top;\n",
       "    }\n",
       "\n",
       "    .dataframe thead th {\n",
       "        text-align: right;\n",
       "    }\n",
       "</style>\n",
       "<table border=\"1\" class=\"dataframe\">\n",
       "  <thead>\n",
       "    <tr style=\"text-align: right;\">\n",
       "      <th></th>\n",
       "      <th>Annotation File</th>\n",
       "    </tr>\n",
       "  </thead>\n",
       "  <tbody>\n",
       "    <tr>\n",
       "      <th>0</th>\n",
       "      <td>258421.json</td>\n",
       "    </tr>\n",
       "    <tr>\n",
       "      <th>1</th>\n",
       "      <td>3075367.json</td>\n",
       "    </tr>\n",
       "    <tr>\n",
       "      <th>2</th>\n",
       "      <td>3076319.json</td>\n",
       "    </tr>\n",
       "    <tr>\n",
       "      <th>3</th>\n",
       "      <td>3145551.json</td>\n",
       "    </tr>\n",
       "    <tr>\n",
       "      <th>4</th>\n",
       "      <td>3176048.json</td>\n",
       "    </tr>\n",
       "  </tbody>\n",
       "</table>\n",
       "</div>"
      ],
      "text/plain": [
       "  Annotation File\n",
       "0     258421.json\n",
       "1    3075367.json\n",
       "2    3076319.json\n",
       "3    3145551.json\n",
       "4    3176048.json"
      ]
     },
     "execution_count": 6,
     "metadata": {},
     "output_type": "execute_result"
    }
   ],
   "source": [
    "# Get a list of JSON files in the dataset\n",
    "annotation_file_paths = list(dataset_path.glob('*.json'))\n",
    "\n",
    "# Display the names of the folders using a Pandas DataFrame\n",
    "pd.DataFrame({\"Annotation File\":[file.name for file in annotation_file_paths]}).head()"
   ]
  },
  {
   "cell_type": "markdown",
   "id": "397b569a",
   "metadata": {},
   "source": [
    "### Get Image Annotations"
   ]
  },
  {
   "cell_type": "code",
   "execution_count": 7,
   "id": "5f0deb44",
   "metadata": {},
   "outputs": [
    {
     "data": {
      "application/vnd.jupyter.widget-view+json": {
       "model_id": "2896a5c5ba424246803fad0c0a9d295e",
       "version_major": 2,
       "version_minor": 0
      },
      "text/plain": [
       "  0%|          | 0/31 [00:00<?, ?it/s]"
      ]
     },
     "metadata": {},
     "output_type": "display_data"
    },
    {
     "data": {
      "text/html": [
       "<div>\n",
       "<style scoped>\n",
       "    .dataframe tbody tr th:only-of-type {\n",
       "        vertical-align: middle;\n",
       "    }\n",
       "\n",
       "    .dataframe tbody tr th {\n",
       "        vertical-align: top;\n",
       "    }\n",
       "\n",
       "    .dataframe thead th {\n",
       "        text-align: right;\n",
       "    }\n",
       "</style>\n",
       "<table border=\"1\" class=\"dataframe\">\n",
       "  <thead>\n",
       "    <tr style=\"text-align: right;\">\n",
       "      <th></th>\n",
       "      <th>version</th>\n",
       "      <th>flags</th>\n",
       "      <th>shapes</th>\n",
       "      <th>imagePath</th>\n",
       "      <th>imageData</th>\n",
       "      <th>imageHeight</th>\n",
       "      <th>imageWidth</th>\n",
       "    </tr>\n",
       "    <tr>\n",
       "      <th>index</th>\n",
       "      <th></th>\n",
       "      <th></th>\n",
       "      <th></th>\n",
       "      <th></th>\n",
       "      <th></th>\n",
       "      <th></th>\n",
       "      <th></th>\n",
       "    </tr>\n",
       "  </thead>\n",
       "  <tbody>\n",
       "    <tr>\n",
       "      <th>258421</th>\n",
       "      <td>5.3.1</td>\n",
       "      <td>{}</td>\n",
       "      <td>[{'label': 'person', 'points': [[404.0, 775.5], [396.5, 766.0], [411.5, 753.0], [411.5, 738.0], [416.5, 731.0], [412.5, 598.0], [419.5, 559.0], [416.0, 554.5], [404.0, 566.5], [387.0, 572.5], [375.5, 566.0], [377.5, 554.0], [405.5, 529.0], [413.5, 504.0], [414.5, 493.0], [386.5, 463.0], [388.5, 453.0], [399.0, 443.5], [413.0, 444.5], [423.5, 453.0], [457.5, 506.0], [452.5, 575.0], [458.5, 607.0], [447.5, 635.0], [444.5, 676.0], [452.5, 764.0], [443.0, 770.5]], 'group_id': None, 'description': '', 'shape_type': 'polygon', 'flags': {}}, {'label': 'person', 'points': [[377.0, 775.5], [368.0, 774.5], [346.5, 764.0], [349.5, 751.0], [348.5, 707.0], [358.5, 668.0], [343.5, 651.0], [359.5, 605.0], [379.5, 583.0], [366.00692041522484, 583.3910034602076], [362.5467128027681, 575.7785467128027], [361.85467128027676, 565.3979238754325], [353.2041522491349, 557.0934256055363], [357.7024221453287, 547.4048442906574], [350.7820069204152, 532.5259515570934], [356.31833910034595, 520.7612456747405], [359.7785467128027, 481.31487889273353], [376.3875432525951, 467.47404844290656], [387.4602076124567, 469.5501730103806], [401.3010380622837, 484.08304498269894], [405.79930795847747, 501.038062283737], [394.03460207612454, 505.88235294117646], [394.72664359861585, 519.0311418685121], [399.916955017301, 531.1418685121107], [374.6574394463667, 554.3252595155709], [369.81314878892726, 571.280276816609], [374.31141868512105, 574.0484429065743], [388.152249134948, 574.39446366782], [397.49480968858126, 569.8961937716263], [402.5, 578.0], [410.5, 594.0], [412.5, 668.0], [387.0, 667.5], [375.5, 692.0], [376.5, 738.0], [380.5, 753.0], [388.5, 764.0], [386.5, 772.0]], 'group_id': None, 'description': None, 'shape_type': 'polygon', 'flags': {}}]</td>\n",
       "      <td>258421.jpg</td>\n",
       "      <td>None</td>\n",
       "      <td>1152</td>\n",
       "      <td>768</td>\n",
       "    </tr>\n",
       "    <tr>\n",
       "      <th>3075367</th>\n",
       "      <td>5.3.1</td>\n",
       "      <td>{}</td>\n",
       "      <td>[{'label': 'person', 'points': [[714.0, 766.5], [664.0, 765.5], [654.0, 716.5], [640.0, 765.5], [578.5, 764.0], [578.5, 599.0], [570.5, 587.0], [592.5, 403.0], [583.5, 339.0], [525.5, 278.0], [463.5, 187.0], [423.5, 98.0], [422.5, 72.0], [444.0, 52.5], [460.5, 62.0], [458.5, 104.0], [485.5, 166.0], [581.0, 270.5], [623.0, 295.5], [644.5, 293.0], [630.5, 261.0], [642.5, 193.0], [667.0, 182.5], [707.0, 191.5], [719.5, 249.0], [709.0, 307.5], [774.0, 271.5], [848.5, 176.0], [875.5, 108.0], [867.5, 55.0], [902.0, 63.5], [908.5, 76.0], [902.5, 134.0], [858.5, 233.0], [759.5, 350.0], [736.5, 495.0], [752.5, 614.0]], 'group_id': None, 'description': '', 'shape_type': 'polygon', 'flags': {}}, {'label': 'person', 'points': [[829.0, 466.5], [825.5, 464.0], [824.5, 455.0], [825.5, 425.0], [828.0, 419.5], [833.5, 418.0], [827.5, 417.0], [822.5, 396.0], [825.5, 327.0], [843.5, 313.0], [842.5, 296.0], [833.5, 291.0], [832.5, 270.0], [837.0, 265.5], [856.0, 264.5], [868.5, 277.0], [870.5, 306.0], [881.5, 318.0], [883.5, 329.0], [893.0, 332.5], [899.5, 340.0], [901.5, 367.0], [883.5, 382.0], [849.5, 443.0], [842.5, 448.0], [838.5, 460.0]], 'group_id': None, 'description': '', 'shape_type': 'polygon', 'flags': {}}, {'label': 'person', 'points': [[359.0, 509.5], [355.0, 509.5], [350.5, 502.0], [353.5, 486.0], [349.5, 475.0], [349.5, 449.0], [345.5, 430.0], [339.5, 419.0], [337.5, 394.0], [327.5, 378.0], [331.5, 371.0], [332.5, 357.0], [342.5, 345.0], [345.5, 327.0], [354.0, 313.5], [365.5, 317.0], [366.5, 339.0], [385.0, 350.5], [399.5, 371.0], [398.5, 383.0], [390.0, 391.5], [390.5, 378.0], [383.0, 369.5], [379.5, 370.0], [380.5, 441.0], [376.5, 471.0], [370.0, 464.5], [364.5, 472.0], [362.5, 482.0], [364.5, 504.0]], 'group_id': None, 'description': '', 'shape_type': 'polygon', 'flags': {}}, {'label': 'car', 'points': [[1343.0, 764.5], [964.0, 745.5], [930.0, 764.5], [914.5, 759.0], [904.0, 722.5], [865.0, 706.5], [848.0, 735.5], [801.0, 735.5], [788.5, 699.0], [792.5, 577.0], [821.5, 476.0], [849.5, 454.0], [890.5, 382.0], [930.0, 355.5], [1021.0, 347.5], [1195.0, 358.5], [1287.0, 378.5], [1343.0, 436.0]], 'group_id': None, 'description': '', 'shape_type': 'polygon', 'flags': {}}]</td>\n",
       "      <td>3075367.jpg</td>\n",
       "      <td>None</td>\n",
       "      <td>768</td>\n",
       "      <td>1344</td>\n",
       "    </tr>\n",
       "    <tr>\n",
       "      <th>3076319</th>\n",
       "      <td>5.3.1</td>\n",
       "      <td>{}</td>\n",
       "      <td>[{'label': 'person', 'points': [[590.0, 1119.0], [508.5, 1119.0], [393.5, 881.0], [363.5, 778.0], [359.5, 738.0], [377.5, 685.0], [420.5, 660.0], [388.5, 650.0], [410.5, 606.0], [412.5, 477.0], [349.5, 383.0], [364.5, 338.0], [341.5, 303.0], [369.5, 313.0], [396.5, 191.0], [449.0, 157.5], [496.0, 169.5], [524.5, 203.0], [534.5, 320.0], [577.5, 380.0], [588.5, 493.0], [635.5, 554.0], [631.5, 567.0], [687.5, 625.0], [704.5, 673.0], [698.5, 743.0], [632.5, 833.0], [618.5, 955.0], [573.5, 1096.0]], 'group_id': None, 'description': '', 'shape_type': 'polygon', 'flags': {}}, {'label': 'person', 'points': [[262.0, 1119.0], [128.5, 1119.0], [131.5, 1089.0], [35.5, 901.0], [11.5, 772.0], [33.5, 686.0], [70.5, 663.0], [34.5, 612.0], [25.5, 569.0], [52.5, 375.0], [97.0, 332.5], [195.5, 306.0], [205.5, 255.0], [192.5, 220.0], [240.0, 154.5], [290.0, 133.5], [323.5, 153.0], [341.5, 209.0], [332.5, 279.0], [294.5, 326.0], [347.5, 357.0], [352.5, 399.0], [400.5, 459.0], [404.5, 517.0], [391.5, 631.0], [344.5, 679.0], [359.5, 719.0], [323.5, 907.0], [224.5, 1082.0]], 'group_id': None, 'description': '', 'shape_type': 'polygon', 'flags': {}}]</td>\n",
       "      <td>3076319.jpg</td>\n",
       "      <td>None</td>\n",
       "      <td>1120</td>\n",
       "      <td>768</td>\n",
       "    </tr>\n",
       "    <tr>\n",
       "      <th>3145551</th>\n",
       "      <td>5.3.1</td>\n",
       "      <td>{}</td>\n",
       "      <td>[{'label': 'person', 'points': [[683.0, 398.5], [675.0, 398.5], [671.5, 396.0], [673.5, 378.0], [669.5, 366.0], [669.5, 359.0], [664.5, 346.0], [663.5, 326.0], [661.5, 320.0], [661.5, 312.0], [666.5, 304.0], [662.5, 295.0], [666.0, 283.5], [673.0, 283.5], [674.5, 285.0], [676.5, 289.0], [676.5, 297.0], [681.5, 302.0], [685.5, 313.0], [686.5, 336.0], [683.5, 344.0], [685.5, 395.0]], 'group_id': None, 'description': '', 'shape_type': 'polygon', 'flags': {}}, {'label': 'person', 'points': [[649.0, 398.5], [644.0, 398.5], [641.5, 396.0], [640.5, 387.0], [644.5, 379.0], [650.5, 358.0], [650.5, 351.0], [644.5, 335.0], [644.5, 323.0], [646.5, 316.0], [644.5, 300.0], [648.5, 291.0], [654.0, 288.5], [661.5, 295.0], [662.5, 298.0], [658.5, 309.0], [662.5, 316.0], [664.5, 324.0], [665.5, 349.0], [669.5, 364.0], [665.5, 383.0], [666.5, 396.0], [663.0, 397.5], [659.5, 392.0], [662.5, 375.0], [662.5, 364.0], [660.0, 361.5], [649.5, 383.0]], 'group_id': None, 'description': '', 'shape_type': 'polygon', 'flags': {}}]</td>\n",
       "      <td>3145551.jpg</td>\n",
       "      <td>None</td>\n",
       "      <td>768</td>\n",
       "      <td>1184</td>\n",
       "    </tr>\n",
       "    <tr>\n",
       "      <th>3176048</th>\n",
       "      <td>5.3.1</td>\n",
       "      <td>{}</td>\n",
       "      <td>[{'label': 'person', 'points': [[661.0, 436.5], [659.5, 436.0], [660.5, 432.0], [660.5, 396.0], [659.5, 392.0], [663.5, 376.0], [661.0, 373.5], [658.0, 373.5], [650.0, 377.5], [641.0, 377.5], [640.5, 376.0], [647.0, 372.5], [651.0, 372.5], [656.0, 370.5], [666.0, 365.5], [667.5, 364.0], [667.5, 359.0], [670.0, 356.5], [674.0, 356.5], [677.5, 360.0], [676.5, 367.0], [682.5, 374.0], [683.5, 389.0], [681.0, 390.5], [678.5, 388.0], [678.5, 385.0], [677.5, 385.0], [677.5, 390.0], [673.5, 395.0], [673.5, 408.0], [671.5, 411.0], [670.5, 420.0], [668.5, 425.0], [668.5, 433.0], [669.5, 434.0]], 'group_id': None, 'description': '', 'shape_type': 'polygon', 'flags': {}}, {'label': 'person', 'points': [[562.0, 464.5], [552.0, 464.5], [550.5, 462.0], [553.5, 454.0], [550.5, 433.0], [558.5, 402.0], [558.5, 389.0], [561.5, 380.0], [557.0, 372.5], [549.0, 374.5], [537.0, 372.5], [533.0, 377.5], [532.5, 371.0], [529.5, 368.0], [542.0, 365.5], [551.0, 366.5], [562.0, 361.5], [567.0, 361.5], [568.5, 360.0], [567.5, 346.0], [572.0, 342.5], [577.0, 342.5], [582.5, 348.0], [581.5, 360.0], [591.5, 372.0], [593.5, 386.0], [592.0, 388.5], [587.0, 388.5], [585.5, 391.0], [578.5, 419.0], [572.5, 434.0], [571.5, 445.0], [566.5, 454.0], [565.5, 462.0]], 'group_id': None, 'description': '', 'shape_type': 'polygon', 'flags': {}}]</td>\n",
       "      <td>3176048.jpg</td>\n",
       "      <td>None</td>\n",
       "      <td>768</td>\n",
       "      <td>1152</td>\n",
       "    </tr>\n",
       "  </tbody>\n",
       "</table>\n",
       "</div>"
      ],
      "text/plain": [
       "        version flags  \\\n",
       "index                   \n",
       "258421    5.3.1    {}   \n",
       "3075367   5.3.1    {}   \n",
       "3076319   5.3.1    {}   \n",
       "3145551   5.3.1    {}   \n",
       "3176048   5.3.1    {}   \n",
       "\n",
       "                                                                                                                                                                                                                                                                                                                                                                                                                                                                                                                                                                                                                                                                                                                                                                                                                                                                                                                                                                                                                                                                                                                                                                                                                                                                                                                                                                                                                                                                                                                                                                                                                                                                                                                                                                                                                                                                                                                                                                                                                                                                                                                                                                                                                                                                                              shapes  \\\n",
       "index                                                                                                                                                                                                                                                                                                                                                                                                                                                                                                                                                                                                                                                                                                                                                                                                                                                                                                                                                                                                                                                                                                                                                                                                                                                                                                                                                                                                                                                                                                                                                                                                                                                                                                                                                                                                                                                                                                                                                                                                                                                                                                                                                                                                                                                                                                  \n",
       "258421                                                                                                                                                                                                                                                                                                                                                                                                                                                                             [{'label': 'person', 'points': [[404.0, 775.5], [396.5, 766.0], [411.5, 753.0], [411.5, 738.0], [416.5, 731.0], [412.5, 598.0], [419.5, 559.0], [416.0, 554.5], [404.0, 566.5], [387.0, 572.5], [375.5, 566.0], [377.5, 554.0], [405.5, 529.0], [413.5, 504.0], [414.5, 493.0], [386.5, 463.0], [388.5, 453.0], [399.0, 443.5], [413.0, 444.5], [423.5, 453.0], [457.5, 506.0], [452.5, 575.0], [458.5, 607.0], [447.5, 635.0], [444.5, 676.0], [452.5, 764.0], [443.0, 770.5]], 'group_id': None, 'description': '', 'shape_type': 'polygon', 'flags': {}}, {'label': 'person', 'points': [[377.0, 775.5], [368.0, 774.5], [346.5, 764.0], [349.5, 751.0], [348.5, 707.0], [358.5, 668.0], [343.5, 651.0], [359.5, 605.0], [379.5, 583.0], [366.00692041522484, 583.3910034602076], [362.5467128027681, 575.7785467128027], [361.85467128027676, 565.3979238754325], [353.2041522491349, 557.0934256055363], [357.7024221453287, 547.4048442906574], [350.7820069204152, 532.5259515570934], [356.31833910034595, 520.7612456747405], [359.7785467128027, 481.31487889273353], [376.3875432525951, 467.47404844290656], [387.4602076124567, 469.5501730103806], [401.3010380622837, 484.08304498269894], [405.79930795847747, 501.038062283737], [394.03460207612454, 505.88235294117646], [394.72664359861585, 519.0311418685121], [399.916955017301, 531.1418685121107], [374.6574394463667, 554.3252595155709], [369.81314878892726, 571.280276816609], [374.31141868512105, 574.0484429065743], [388.152249134948, 574.39446366782], [397.49480968858126, 569.8961937716263], [402.5, 578.0], [410.5, 594.0], [412.5, 668.0], [387.0, 667.5], [375.5, 692.0], [376.5, 738.0], [380.5, 753.0], [388.5, 764.0], [386.5, 772.0]], 'group_id': None, 'description': None, 'shape_type': 'polygon', 'flags': {}}]   \n",
       "3075367  [{'label': 'person', 'points': [[714.0, 766.5], [664.0, 765.5], [654.0, 716.5], [640.0, 765.5], [578.5, 764.0], [578.5, 599.0], [570.5, 587.0], [592.5, 403.0], [583.5, 339.0], [525.5, 278.0], [463.5, 187.0], [423.5, 98.0], [422.5, 72.0], [444.0, 52.5], [460.5, 62.0], [458.5, 104.0], [485.5, 166.0], [581.0, 270.5], [623.0, 295.5], [644.5, 293.0], [630.5, 261.0], [642.5, 193.0], [667.0, 182.5], [707.0, 191.5], [719.5, 249.0], [709.0, 307.5], [774.0, 271.5], [848.5, 176.0], [875.5, 108.0], [867.5, 55.0], [902.0, 63.5], [908.5, 76.0], [902.5, 134.0], [858.5, 233.0], [759.5, 350.0], [736.5, 495.0], [752.5, 614.0]], 'group_id': None, 'description': '', 'shape_type': 'polygon', 'flags': {}}, {'label': 'person', 'points': [[829.0, 466.5], [825.5, 464.0], [824.5, 455.0], [825.5, 425.0], [828.0, 419.5], [833.5, 418.0], [827.5, 417.0], [822.5, 396.0], [825.5, 327.0], [843.5, 313.0], [842.5, 296.0], [833.5, 291.0], [832.5, 270.0], [837.0, 265.5], [856.0, 264.5], [868.5, 277.0], [870.5, 306.0], [881.5, 318.0], [883.5, 329.0], [893.0, 332.5], [899.5, 340.0], [901.5, 367.0], [883.5, 382.0], [849.5, 443.0], [842.5, 448.0], [838.5, 460.0]], 'group_id': None, 'description': '', 'shape_type': 'polygon', 'flags': {}}, {'label': 'person', 'points': [[359.0, 509.5], [355.0, 509.5], [350.5, 502.0], [353.5, 486.0], [349.5, 475.0], [349.5, 449.0], [345.5, 430.0], [339.5, 419.0], [337.5, 394.0], [327.5, 378.0], [331.5, 371.0], [332.5, 357.0], [342.5, 345.0], [345.5, 327.0], [354.0, 313.5], [365.5, 317.0], [366.5, 339.0], [385.0, 350.5], [399.5, 371.0], [398.5, 383.0], [390.0, 391.5], [390.5, 378.0], [383.0, 369.5], [379.5, 370.0], [380.5, 441.0], [376.5, 471.0], [370.0, 464.5], [364.5, 472.0], [362.5, 482.0], [364.5, 504.0]], 'group_id': None, 'description': '', 'shape_type': 'polygon', 'flags': {}}, {'label': 'car', 'points': [[1343.0, 764.5], [964.0, 745.5], [930.0, 764.5], [914.5, 759.0], [904.0, 722.5], [865.0, 706.5], [848.0, 735.5], [801.0, 735.5], [788.5, 699.0], [792.5, 577.0], [821.5, 476.0], [849.5, 454.0], [890.5, 382.0], [930.0, 355.5], [1021.0, 347.5], [1195.0, 358.5], [1287.0, 378.5], [1343.0, 436.0]], 'group_id': None, 'description': '', 'shape_type': 'polygon', 'flags': {}}]   \n",
       "3076319                                                                                                                                                                                                                                                                                                                                                                                                                                                                                                                                                                                                                                                                                                                                                                                                                                                                                                                                                                                                                                                                                                      [{'label': 'person', 'points': [[590.0, 1119.0], [508.5, 1119.0], [393.5, 881.0], [363.5, 778.0], [359.5, 738.0], [377.5, 685.0], [420.5, 660.0], [388.5, 650.0], [410.5, 606.0], [412.5, 477.0], [349.5, 383.0], [364.5, 338.0], [341.5, 303.0], [369.5, 313.0], [396.5, 191.0], [449.0, 157.5], [496.0, 169.5], [524.5, 203.0], [534.5, 320.0], [577.5, 380.0], [588.5, 493.0], [635.5, 554.0], [631.5, 567.0], [687.5, 625.0], [704.5, 673.0], [698.5, 743.0], [632.5, 833.0], [618.5, 955.0], [573.5, 1096.0]], 'group_id': None, 'description': '', 'shape_type': 'polygon', 'flags': {}}, {'label': 'person', 'points': [[262.0, 1119.0], [128.5, 1119.0], [131.5, 1089.0], [35.5, 901.0], [11.5, 772.0], [33.5, 686.0], [70.5, 663.0], [34.5, 612.0], [25.5, 569.0], [52.5, 375.0], [97.0, 332.5], [195.5, 306.0], [205.5, 255.0], [192.5, 220.0], [240.0, 154.5], [290.0, 133.5], [323.5, 153.0], [341.5, 209.0], [332.5, 279.0], [294.5, 326.0], [347.5, 357.0], [352.5, 399.0], [400.5, 459.0], [404.5, 517.0], [391.5, 631.0], [344.5, 679.0], [359.5, 719.0], [323.5, 907.0], [224.5, 1082.0]], 'group_id': None, 'description': '', 'shape_type': 'polygon', 'flags': {}}]   \n",
       "3145551                                                                                                                                                                                                                                                                                                                                                                                                                                                                                                                                                                                                                                                                                                                                                                                                                                                                                                                                                                                                                                                                                                                                                                                                                                     [{'label': 'person', 'points': [[683.0, 398.5], [675.0, 398.5], [671.5, 396.0], [673.5, 378.0], [669.5, 366.0], [669.5, 359.0], [664.5, 346.0], [663.5, 326.0], [661.5, 320.0], [661.5, 312.0], [666.5, 304.0], [662.5, 295.0], [666.0, 283.5], [673.0, 283.5], [674.5, 285.0], [676.5, 289.0], [676.5, 297.0], [681.5, 302.0], [685.5, 313.0], [686.5, 336.0], [683.5, 344.0], [685.5, 395.0]], 'group_id': None, 'description': '', 'shape_type': 'polygon', 'flags': {}}, {'label': 'person', 'points': [[649.0, 398.5], [644.0, 398.5], [641.5, 396.0], [640.5, 387.0], [644.5, 379.0], [650.5, 358.0], [650.5, 351.0], [644.5, 335.0], [644.5, 323.0], [646.5, 316.0], [644.5, 300.0], [648.5, 291.0], [654.0, 288.5], [661.5, 295.0], [662.5, 298.0], [658.5, 309.0], [662.5, 316.0], [664.5, 324.0], [665.5, 349.0], [669.5, 364.0], [665.5, 383.0], [666.5, 396.0], [663.0, 397.5], [659.5, 392.0], [662.5, 375.0], [662.5, 364.0], [660.0, 361.5], [649.5, 383.0]], 'group_id': None, 'description': '', 'shape_type': 'polygon', 'flags': {}}]   \n",
       "3176048                                                                                                                                                                                                                                                                                                                                                                                                                                                                                                                                                                                                                                                                                                                                                                                                                                                                                                                     [{'label': 'person', 'points': [[661.0, 436.5], [659.5, 436.0], [660.5, 432.0], [660.5, 396.0], [659.5, 392.0], [663.5, 376.0], [661.0, 373.5], [658.0, 373.5], [650.0, 377.5], [641.0, 377.5], [640.5, 376.0], [647.0, 372.5], [651.0, 372.5], [656.0, 370.5], [666.0, 365.5], [667.5, 364.0], [667.5, 359.0], [670.0, 356.5], [674.0, 356.5], [677.5, 360.0], [676.5, 367.0], [682.5, 374.0], [683.5, 389.0], [681.0, 390.5], [678.5, 388.0], [678.5, 385.0], [677.5, 385.0], [677.5, 390.0], [673.5, 395.0], [673.5, 408.0], [671.5, 411.0], [670.5, 420.0], [668.5, 425.0], [668.5, 433.0], [669.5, 434.0]], 'group_id': None, 'description': '', 'shape_type': 'polygon', 'flags': {}}, {'label': 'person', 'points': [[562.0, 464.5], [552.0, 464.5], [550.5, 462.0], [553.5, 454.0], [550.5, 433.0], [558.5, 402.0], [558.5, 389.0], [561.5, 380.0], [557.0, 372.5], [549.0, 374.5], [537.0, 372.5], [533.0, 377.5], [532.5, 371.0], [529.5, 368.0], [542.0, 365.5], [551.0, 366.5], [562.0, 361.5], [567.0, 361.5], [568.5, 360.0], [567.5, 346.0], [572.0, 342.5], [577.0, 342.5], [582.5, 348.0], [581.5, 360.0], [591.5, 372.0], [593.5, 386.0], [592.0, 388.5], [587.0, 388.5], [585.5, 391.0], [578.5, 419.0], [572.5, 434.0], [571.5, 445.0], [566.5, 454.0], [565.5, 462.0]], 'group_id': None, 'description': '', 'shape_type': 'polygon', 'flags': {}}]   \n",
       "\n",
       "           imagePath imageData imageHeight imageWidth  \n",
       "index                                                  \n",
       "258421    258421.jpg      None        1152        768  \n",
       "3075367  3075367.jpg      None         768       1344  \n",
       "3076319  3076319.jpg      None        1120        768  \n",
       "3145551  3145551.jpg      None         768       1184  \n",
       "3176048  3176048.jpg      None         768       1152  "
      ]
     },
     "execution_count": 7,
     "metadata": {},
     "output_type": "execute_result"
    }
   ],
   "source": [
    "# Create a generator that yields Pandas DataFrames containing the data from each JSON file\n",
    "cls_dataframes = (pd.read_json(f, orient='index').transpose() for f in tqdm(annotation_file_paths))\n",
    "\n",
    "# Concatenate the DataFrames into a single DataFrame\n",
    "annotation_df = pd.concat(cls_dataframes, ignore_index=False)\n",
    "\n",
    "# Assign the image file name as the index for each row\n",
    "annotation_df['index'] = annotation_df.apply(lambda row: row['imagePath'].split('.')[0], axis=1)\n",
    "annotation_df = annotation_df.set_index('index')\n",
    "\n",
    "# Print the first 5 rows of the DataFrame\n",
    "annotation_df.head()"
   ]
  },
  {
   "cell_type": "markdown",
   "id": "e03b43ff",
   "metadata": {},
   "source": [
    "#### Get image classes"
   ]
  },
  {
   "cell_type": "code",
   "execution_count": 8,
   "id": "a836b353-0e9d-4d62-819a-a25f0ba02c5f",
   "metadata": {},
   "outputs": [
    {
     "data": {
      "text/html": [
       "<div>\n",
       "<style scoped>\n",
       "    .dataframe tbody tr th:only-of-type {\n",
       "        vertical-align: middle;\n",
       "    }\n",
       "\n",
       "    .dataframe tbody tr th {\n",
       "        vertical-align: top;\n",
       "    }\n",
       "\n",
       "    .dataframe thead th {\n",
       "        text-align: right;\n",
       "    }\n",
       "</style>\n",
       "<table border=\"1\" class=\"dataframe\">\n",
       "  <thead>\n",
       "    <tr style=\"text-align: right;\">\n",
       "      <th></th>\n",
       "      <th>0</th>\n",
       "    </tr>\n",
       "  </thead>\n",
       "  <tbody>\n",
       "    <tr>\n",
       "      <th>0</th>\n",
       "      <td>person</td>\n",
       "    </tr>\n",
       "    <tr>\n",
       "      <th>1</th>\n",
       "      <td>car</td>\n",
       "    </tr>\n",
       "  </tbody>\n",
       "</table>\n",
       "</div>"
      ],
      "text/plain": [
       "        0\n",
       "0  person\n",
       "1     car"
      ]
     },
     "execution_count": 8,
     "metadata": {},
     "output_type": "execute_result"
    }
   ],
   "source": [
    "# Explode the 'shapes' column in the annotation_df dataframe\n",
    "# Convert the resulting series to a dataframe and rename the 'shapes' column to 'shapes'\n",
    "# Apply the pandas Series function to the 'shapes' column of the dataframe\n",
    "shapes_df = annotation_df['shapes'].explode().to_frame().shapes.apply(pd.Series)\n",
    "\n",
    "# Get a list of unique labels in the 'annotation_df' DataFrame\n",
    "class_names = shapes_df['label'].unique().tolist()\n",
    "\n",
    "# Display labels using a Pandas DataFrame\n",
    "pd.DataFrame(class_names)"
   ]
  },
  {
   "cell_type": "markdown",
   "id": "4bc00ff2",
   "metadata": {},
   "source": [
    "#### Generate a color map"
   ]
  },
  {
   "cell_type": "code",
   "execution_count": 9,
   "id": "6c8b6cd9",
   "metadata": {},
   "outputs": [
    {
     "data": {
      "image/png": "[encoded data removed]",
      "text/plain": [
       "<Figure size 800x800 with 1 Axes>"
      ]
     },
     "metadata": {},
     "output_type": "display_data"
    }
   ],
   "source": [
    "# Generate a list of colors with a length equal to the number of labels\n",
    "colors = distinctipy.get_colors(len(class_names))\n",
    "\n",
    "# Make a copy of the color map in integer format\n",
    "int_colors = [tuple(int(c*255) for c in color) for color in colors]\n",
    "\n",
    "# Generate a color swatch to visualize the color map\n",
    "distinctipy.color_swatch(colors)"
   ]
  },
  {
   "cell_type": "markdown",
   "id": "f7f7be42",
   "metadata": {},
   "source": [
    "#### Download a font file"
   ]
  },
  {
   "cell_type": "code",
   "execution_count": 10,
   "id": "8d81955f",
   "metadata": {},
   "outputs": [
    {
     "name": "stdout",
     "output_type": "stream",
     "text": [
      "The file ./KFOlCnqEu92Fr1MmEU9vAw.ttf already exists and overwrite is set to False.\n"
     ]
    }
   ],
   "source": [
    "# Set the name of the font file\n",
    "font_file = 'KFOlCnqEu92Fr1MmEU9vAw.ttf'\n",
    "\n",
    "# Download the font file\n",
    "download_file(f\"https://fonts.gstatic.com/s/roboto/v30/{font_file}\", \"./\")"
   ]
  },
  {
   "cell_type": "markdown",
   "id": "55dd5206",
   "metadata": {},
   "source": [
    "#### Inspect the corresponding annotation data"
   ]
  },
  {
   "cell_type": "code",
   "execution_count": 11,
   "id": "96eb872d",
   "metadata": {},
   "outputs": [
    {
     "data": {
      "text/html": [
       "<div>\n",
       "<style scoped>\n",
       "    .dataframe tbody tr th:only-of-type {\n",
       "        vertical-align: middle;\n",
       "    }\n",
       "\n",
       "    .dataframe tbody tr th {\n",
       "        vertical-align: top;\n",
       "    }\n",
       "\n",
       "    .dataframe thead th {\n",
       "        text-align: right;\n",
       "    }\n",
       "</style>\n",
       "<table border=\"1\" class=\"dataframe\">\n",
       "  <thead>\n",
       "    <tr style=\"text-align: right;\">\n",
       "      <th></th>\n",
       "      <th>258421</th>\n",
       "    </tr>\n",
       "  </thead>\n",
       "  <tbody>\n",
       "    <tr>\n",
       "      <th>version</th>\n",
       "      <td>5.3.1</td>\n",
       "    </tr>\n",
       "    <tr>\n",
       "      <th>flags</th>\n",
       "      <td>{}</td>\n",
       "    </tr>\n",
       "    <tr>\n",
       "      <th>shapes</th>\n",
       "      <td>[{'label': 'person', 'points': [[404.0, 775.5], [396.5, 766.0], [411.5, 753.0], [411.5, 738.0], [416.5, 731.0], [412.5, 598.0], [419.5, 559.0], [416.0, 554.5], [404.0, 566.5], [387.0, 572.5], [375.5, 566.0], [377.5, 554.0], [405.5, 529.0], [413.5, 504.0], [414.5, 493.0], [386.5, 463.0], [388.5, 453.0], [399.0, 443.5], [413.0, 444.5], [423.5, 453.0], [457.5, 506.0], [452.5, 575.0], [458.5, 607.0], [447.5, 635.0], [444.5, 676.0], [452.5, 764.0], [443.0, 770.5]], 'group_id': None, 'description': '', 'shape_type': 'polygon', 'flags': {}}, {'label': 'person', 'points': [[377.0, 775.5], [368.0, 774.5], [346.5, 764.0], [349.5, 751.0], [348.5, 707.0], [358.5, 668.0], [343.5, 651.0], [359.5, 605.0], [379.5, 583.0], [366.00692041522484, 583.3910034602076], [362.5467128027681, 575.7785467128027], [361.85467128027676, 565.3979238754325], [353.2041522491349, 557.0934256055363], [357.7024221453287, 547.4048442906574], [350.7820069204152, 532.5259515570934], [356.31833910034595, 520.7612456747405], [359.7785467128027, 481.31487889273353], [376.3875432525951, 467.47404844290656], [387.4602076124567, 469.5501730103806], [401.3010380622837, 484.08304498269894], [405.79930795847747, 501.038062283737], [394.03460207612454, 505.88235294117646], [394.72664359861585, 519.0311418685121], [399.916955017301, 531.1418685121107], [374.6574394463667, 554.3252595155709], [369.81314878892726, 571.280276816609], [374.31141868512105, 574.0484429065743], [388.152249134948, 574.39446366782], [397.49480968858126, 569.8961937716263], [402.5, 578.0], [410.5, 594.0], [412.5, 668.0], [387.0, 667.5], [375.5, 692.0], [376.5, 738.0], [380.5, 753.0], [388.5, 764.0], [386.5, 772.0]], 'group_id': None, 'description': None, 'shape_type': 'polygon', 'flags': {}}]</td>\n",
       "    </tr>\n",
       "    <tr>\n",
       "      <th>imagePath</th>\n",
       "      <td>258421.jpg</td>\n",
       "    </tr>\n",
       "    <tr>\n",
       "      <th>imageData</th>\n",
       "      <td>None</td>\n",
       "    </tr>\n",
       "    <tr>\n",
       "      <th>imageHeight</th>\n",
       "      <td>1152</td>\n",
       "    </tr>\n",
       "    <tr>\n",
       "      <th>imageWidth</th>\n",
       "      <td>768</td>\n",
       "    </tr>\n",
       "  </tbody>\n",
       "</table>\n",
       "</div>"
      ],
      "text/plain": [
       "                                                                                                                                                                                                                                                                                                                                                                                                                                                                                                                                                                                                                                                                                                                                                                                                                                                                                                                                                                                                                                                                                                                                                                                                                                                                                                                                                                                                                                                                                                                                                                                                                                                                                                                                                                                                                        258421\n",
       "version                                                                                                                                                                                                                                                                                                                                                                                                                                                                                                                                                                                                                                                                                                                                                                                                                                                                                                                                                                                                                                                                                                                                                                                                                                                                                                                                                                                                                                                                                                                                                                                                                                                                                                                                                                                                                  5.3.1\n",
       "flags                                                                                                                                                                                                                                                                                                                                                                                                                                                                                                                                                                                                                                                                                                                                                                                                                                                                                                                                                                                                                                                                                                                                                                                                                                                                                                                                                                                                                                                                                                                                                                                                                                                                                                                                                                                                                       {}\n",
       "shapes       [{'label': 'person', 'points': [[404.0, 775.5], [396.5, 766.0], [411.5, 753.0], [411.5, 738.0], [416.5, 731.0], [412.5, 598.0], [419.5, 559.0], [416.0, 554.5], [404.0, 566.5], [387.0, 572.5], [375.5, 566.0], [377.5, 554.0], [405.5, 529.0], [413.5, 504.0], [414.5, 493.0], [386.5, 463.0], [388.5, 453.0], [399.0, 443.5], [413.0, 444.5], [423.5, 453.0], [457.5, 506.0], [452.5, 575.0], [458.5, 607.0], [447.5, 635.0], [444.5, 676.0], [452.5, 764.0], [443.0, 770.5]], 'group_id': None, 'description': '', 'shape_type': 'polygon', 'flags': {}}, {'label': 'person', 'points': [[377.0, 775.5], [368.0, 774.5], [346.5, 764.0], [349.5, 751.0], [348.5, 707.0], [358.5, 668.0], [343.5, 651.0], [359.5, 605.0], [379.5, 583.0], [366.00692041522484, 583.3910034602076], [362.5467128027681, 575.7785467128027], [361.85467128027676, 565.3979238754325], [353.2041522491349, 557.0934256055363], [357.7024221453287, 547.4048442906574], [350.7820069204152, 532.5259515570934], [356.31833910034595, 520.7612456747405], [359.7785467128027, 481.31487889273353], [376.3875432525951, 467.47404844290656], [387.4602076124567, 469.5501730103806], [401.3010380622837, 484.08304498269894], [405.79930795847747, 501.038062283737], [394.03460207612454, 505.88235294117646], [394.72664359861585, 519.0311418685121], [399.916955017301, 531.1418685121107], [374.6574394463667, 554.3252595155709], [369.81314878892726, 571.280276816609], [374.31141868512105, 574.0484429065743], [388.152249134948, 574.39446366782], [397.49480968858126, 569.8961937716263], [402.5, 578.0], [410.5, 594.0], [412.5, 668.0], [387.0, 667.5], [375.5, 692.0], [376.5, 738.0], [380.5, 753.0], [388.5, 764.0], [386.5, 772.0]], 'group_id': None, 'description': None, 'shape_type': 'polygon', 'flags': {}}]\n",
       "imagePath                                                                                                                                                                                                                                                                                                                                                                                                                                                                                                                                                                                                                                                                                                                                                                                                                                                                                                                                                                                                                                                                                                                                                                                                                                                                                                                                                                                                                                                                                                                                                                                                                                                                                                                                                                                                           258421.jpg\n",
       "imageData                                                                                                                                                                                                                                                                                                                                                                                                                                                                                                                                                                                                                                                                                                                                                                                                                                                                                                                                                                                                                                                                                                                                                                                                                                                                                                                                                                                                                                                                                                                                                                                                                                                                                                                                                                                                                 None\n",
       "imageHeight                                                                                                                                                                                                                                                                                                                                                                                                                                                                                                                                                                                                                                                                                                                                                                                                                                                                                                                                                                                                                                                                                                                                                                                                                                                                                                                                                                                                                                                                                                                                                                                                                                                                                                                                                                                                               1152\n",
       "imageWidth                                                                                                                                                                                                                                                                                                                                                                                                                                                                                                                                                                                                                                                                                                                                                                                                                                                                                                                                                                                                                                                                                                                                                                                                                                                                                                                                                                                                                                                                                                                                                                                                                                                                                                                                                                                                                 768"
      ]
     },
     "execution_count": 11,
     "metadata": {},
     "output_type": "execute_result"
    }
   ],
   "source": [
    "# Get the row from the 'annotation_df' DataFrame corresponding to the 'file_id'\n",
    "annotation_df.iloc[0].to_frame()"
   ]
  },
  {
   "cell_type": "code",
   "execution_count": null,
   "id": "b4a475b1-8535-4f42-bbc5-7be75df854a8",
   "metadata": {},
   "outputs": [],
   "source": []
  },
  {
   "cell_type": "markdown",
   "id": "2693e8a7-a650-4a38-be56-bd01c11bbebf",
   "metadata": {},
   "source": [
    "## Saving Annotations to CVAT XML Format"
   ]
  },
  {
   "cell_type": "markdown",
   "id": "95e5f37e-a485-4815-a0c4-e7ad0ca2238f",
   "metadata": {},
   "source": [
    "### Define Utility Functions"
   ]
  },
  {
   "cell_type": "markdown",
   "id": "4e5a4cf7-91d4-4e4e-8a51-e7ef86f3cb52",
   "metadata": {},
   "source": [
    "#### Define a function to format the generated XML content"
   ]
  },
  {
   "cell_type": "code",
   "execution_count": 12,
   "id": "d6e733a2-2dad-4da9-94aa-f13c484aca8c",
   "metadata": {},
   "outputs": [],
   "source": [
    "def prettify(elem):\n",
    "    \"\"\"\n",
    "    Return a pretty-printed XML string for the Element.\n",
    "\n",
    "    Args:\n",
    "    elem (xml.etree.ElementTree.Element): The XML element to be pretty-printed.\n",
    "\n",
    "    Returns:\n",
    "    str: A pretty-printed XML string.\n",
    "    \"\"\"\n",
    "    # Convert the XML element to a string with utf-8 encoding\n",
    "    rough_string = ET.tostring(elem, 'utf-8')\n",
    "    # Parse the string back into an XML document\n",
    "    reparsed = xml.dom.minidom.parseString(rough_string)\n",
    "    # Return the pretty-printed string with an indentation\n",
    "    return reparsed.toprettyxml(indent=\"  \")"
   ]
  },
  {
   "cell_type": "markdown",
   "id": "796f429c-ac32-4afb-ba51-7e0fa0aa7df8",
   "metadata": {},
   "source": [
    "#### Define a function to store keypoint coordinates in CVAT XML format"
   ]
  },
  {
   "cell_type": "code",
   "execution_count": 13,
   "id": "0b3fb699-ec4d-4070-8c5e-1d205fdfff61",
   "metadata": {},
   "outputs": [],
   "source": [
    "def convert_keypoints(keypoints):\n",
    "    \"\"\"\n",
    "    Convert a list of keypoints to a format suitable for CVAT annotation.\n",
    "\n",
    "    This function processes keypoints for each image, converting them into a dictionary\n",
    "    format required by CVAT (Computer Vision Annotation Tool).\n",
    "\n",
    "    Args:\n",
    "    - keypoints (list of list of dicts): A nested list where each sublist represents keypoints\n",
    "      for an image, and each keypoint is a dictionary mapping labels to coordinates.\n",
    "\n",
    "    Returns:\n",
    "    - list of list of dicts: The converted keypoints, where each keypoint is represented as\n",
    "      a dictionary with 'label' and 'points' as keys.\n",
    "    \"\"\"\n",
    "    converted = []\n",
    "    for image_keypoints in keypoints:\n",
    "        image_converted = []\n",
    "        for keypoint in image_keypoints:\n",
    "            for label, coords in keypoint.items():\n",
    "                # Converting coordinates to a comma-separated string\n",
    "                cvat_keypoint = {\n",
    "                    \"label\": label,\n",
    "                    \"points\": \",\".join(map(str, coords))  # e.g., \"x1,y1,x2,y2,...\"\n",
    "                }\n",
    "                image_converted.append(cvat_keypoint)\n",
    "        converted.append(image_converted)\n",
    "    return converted"
   ]
  },
  {
   "cell_type": "markdown",
   "id": "06e64c02-273a-4719-9056-776bbcc9a69c",
   "metadata": {},
   "source": [
    "#### Define a function to save segmentation annotations to a CVAT XML file"
   ]
  },
  {
   "cell_type": "code",
   "execution_count": 14,
   "id": "488dafb4-e0fe-4903-9fe5-27f6136f882d",
   "metadata": {},
   "outputs": [],
   "source": [
    "def create_cvat_segmentetion_xml(labels, polygon_points, colors, dims, image_names, file_name):\n",
    "    \"\"\"\n",
    "    Creates an XML file formatted for CVAT annotation with segmentation information.\n",
    "\n",
    "    Parameters:\n",
    "    labels (list of str): The list of label names for the segments.\n",
    "    polygon_points (list of list of dicts): Each list contains dictionaries with 'label' and 'points' for one image.\n",
    "    colors (list of tuples): RGB color tuples for each label.\n",
    "    dims (list of tuples): Dimensions (width, height) for each image.\n",
    "    image_names (list of str): The list of image file names.\n",
    "    file_name (str): The name of the output XML file.\n",
    "\n",
    "    This function converts polygon points, creates an XML structure for CVAT annotation, \n",
    "    and writes it to an XML file.\n",
    "    \"\"\"\n",
    "\n",
    "    # Convert polygon points if needed (function 'convert_polygon_points' should be defined elsewhere)\n",
    "    converted_points = convert_keypoints(polygon_points)\n",
    "\n",
    "    # Create the root XML element 'annotations'\n",
    "    annotations = ET.Element(\"annotations\")\n",
    "\n",
    "    # Add version information to the XML\n",
    "    version = ET.SubElement(annotations, \"version\")\n",
    "    version.text = \"1.1\"\n",
    "\n",
    "    # Create a 'meta' section with task details\n",
    "    meta = ET.SubElement(annotations, \"meta\")\n",
    "    task = ET.SubElement(meta, \"task\")\n",
    "    ET.SubElement(task, \"id\").text = \"1\"  # Example ID\n",
    "    ET.SubElement(task, \"name\").text = \"Image Annotation Task\"\n",
    "    ET.SubElement(task, \"size\").text = str(len(dims))  # Number of images\n",
    "    ET.SubElement(task, \"mode\").text = \"annotation\"\n",
    "    ET.SubElement(task, \"overlap\").text = \"0\"\n",
    "\n",
    "    # Add label information within the task\n",
    "    labels_elem = ET.SubElement(task, \"labels\")\n",
    "    for label, color in zip(labels, colors):\n",
    "        label_elem = ET.SubElement(labels_elem, \"label\")\n",
    "        ET.SubElement(label_elem, \"name\").text = label\n",
    "        # Convert RGB color to hex format\n",
    "        ET.SubElement(label_elem, \"color\").text = f\"#{color[0]:02x}{color[1]:02x}{color[2]:02x}\"\n",
    "        ET.SubElement(label_elem, \"type\").text = \"polygon\"\n",
    "\n",
    "    # Add image and polygon information\n",
    "    for i, (dim, points_per_image, image_name) in enumerate(zip(dims, converted_points, image_names)):\n",
    "        # Create an 'image' element for each image\n",
    "        image_elem = ET.SubElement(annotations, \"image\", id=str(i), name=image_name, width=str(dim[0]), height=str(dim[1]))\n",
    "        # Add each polygon point as a child of the image element\n",
    "        for keypoint in points_per_image:\n",
    "            ET.SubElement(image_elem, \"polygon\", label=keypoint[\"label\"], points=keypoint[\"points\"], occluded=\"0\")\n",
    "\n",
    "    # Write the XML to a file\n",
    "    with open(file_name, \"w\") as file:\n",
    "        file.write(prettify(annotations))"
   ]
  },
  {
   "cell_type": "markdown",
   "id": "c50a2bb4-9bf4-407e-8760-50e3cd5b8385",
   "metadata": {},
   "source": [
    "### Create a CVAT XML File"
   ]
  },
  {
   "cell_type": "code",
   "execution_count": 15,
   "id": "ff7c7bee-307f-44f3-ac48-cce649237652",
   "metadata": {},
   "outputs": [],
   "source": [
    "# Prepare the polygon points for each image\n",
    "points = [[{ shape['label'] : np.array(shape['points']).reshape(-1).tolist()} for shape in shapes] for shapes in annotation_df['shapes']]\n",
    "\n",
    "# dims: Extracts the dimensions (height, width) of each image from the DataFrame\n",
    "# and converts them into a list of lists. Each inner list contains the height and width\n",
    "# of an image.\n",
    "dims = annotation_df[['imageHeight', 'imageWidth']].values.tolist()\n",
    "\n",
    "# Save the annotations to a CVAT XML file.\n",
    "create_cvat_segmentetion_xml(class_names, points, int_colors, dims, annotation_df.index.tolist(), \"labelme-to-cvat-segmentation-annotations.xml\")"
   ]
  },
  {
   "cell_type": "code",
   "execution_count": null,
   "id": "efe6e562-9f97-4a62-a36a-9498ae6a1b35",
   "metadata": {},
   "outputs": [],
   "source": []
  }
 ],
 "metadata": {
  "kernelspec": {
   "display_name": "Python 3 (ipykernel)",
   "language": "python",
   "name": "python3"
  },
  "language_info": {
   "codemirror_mode": {
    "name": "ipython",
    "version": 3
   },
   "file_extension": ".py",
   "mimetype": "text/x-python",
   "name": "python",
   "nbconvert_exporter": "python",
   "pygments_lexer": "ipython3",
   "version": "3.11.4"
  },
  "vscode": {
   "interpreter": {
    "hash": "81794d4967e6c3204c66dcd87b604927b115b27c00565d3d43f05ba2f3a2cb0d"
   }
  }
 },
 "nbformat": 4,
 "nbformat_minor": 5
}
